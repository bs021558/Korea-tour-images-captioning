{
  "cells": [
    {
      "cell_type": "markdown",
      "metadata": {
        "id": "N7IGFBlDUiU0"
      },
      "source": [
        "## Prequisites"
      ]
    },
    {
      "cell_type": "code",
      "execution_count": null,
      "metadata": {
        "colab": {
          "base_uri": "https://localhost:8080/"
        },
        "id": "8zIk6PDcS3bi",
        "outputId": "fe717bc0-00c6-4a4e-cb9d-4ae84ec9a2f6"
      },
      "outputs": [
        {
          "name": "stdout",
          "output_type": "stream",
          "text": [
            "Collecting pyspark\n",
            "  Downloading pyspark-3.5.1.tar.gz (317.0 MB)\n",
            "\u001b[2K     \u001b[90m━━━━━━━━━━━━━━━━━━━━━━━━━━━━━━━━━━━━━━━━\u001b[0m \u001b[32m317.0/317.0 MB\u001b[0m \u001b[31m4.1 MB/s\u001b[0m eta \u001b[36m0:00:00\u001b[0m\n",
            "\u001b[?25h  Preparing metadata (setup.py) ... \u001b[?25l\u001b[?25hdone\n",
            "Requirement already satisfied: py4j in /usr/local/lib/python3.10/dist-packages (0.10.9.7)\n",
            "Requirement already satisfied: pillow in /usr/local/lib/python3.10/dist-packages (9.4.0)\n",
            "Requirement already satisfied: torch in /usr/local/lib/python3.10/dist-packages (2.2.1+cu121)\n",
            "Requirement already satisfied: torchvision in /usr/local/lib/python3.10/dist-packages (0.17.1+cu121)\n",
            "Requirement already satisfied: filelock in /usr/local/lib/python3.10/dist-packages (from torch) (3.14.0)\n",
            "Requirement already satisfied: typing-extensions>=4.8.0 in /usr/local/lib/python3.10/dist-packages (from torch) (4.11.0)\n",
            "Requirement already satisfied: sympy in /usr/local/lib/python3.10/dist-packages (from torch) (1.12)\n",
            "Requirement already satisfied: networkx in /usr/local/lib/python3.10/dist-packages (from torch) (3.3)\n",
            "Requirement already satisfied: jinja2 in /usr/local/lib/python3.10/dist-packages (from torch) (3.1.4)\n",
            "Requirement already satisfied: fsspec in /usr/local/lib/python3.10/dist-packages (from torch) (2023.6.0)\n",
            "Collecting nvidia-cuda-nvrtc-cu12==12.1.105 (from torch)\n",
            "  Using cached nvidia_cuda_nvrtc_cu12-12.1.105-py3-none-manylinux1_x86_64.whl (23.7 MB)\n",
            "Collecting nvidia-cuda-runtime-cu12==12.1.105 (from torch)\n",
            "  Using cached nvidia_cuda_runtime_cu12-12.1.105-py3-none-manylinux1_x86_64.whl (823 kB)\n",
            "Collecting nvidia-cuda-cupti-cu12==12.1.105 (from torch)\n",
            "  Using cached nvidia_cuda_cupti_cu12-12.1.105-py3-none-manylinux1_x86_64.whl (14.1 MB)\n",
            "Collecting nvidia-cudnn-cu12==8.9.2.26 (from torch)\n",
            "  Using cached nvidia_cudnn_cu12-8.9.2.26-py3-none-manylinux1_x86_64.whl (731.7 MB)\n",
            "Collecting nvidia-cublas-cu12==12.1.3.1 (from torch)\n",
            "  Using cached nvidia_cublas_cu12-12.1.3.1-py3-none-manylinux1_x86_64.whl (410.6 MB)\n",
            "Collecting nvidia-cufft-cu12==11.0.2.54 (from torch)\n",
            "  Using cached nvidia_cufft_cu12-11.0.2.54-py3-none-manylinux1_x86_64.whl (121.6 MB)\n",
            "Collecting nvidia-curand-cu12==10.3.2.106 (from torch)\n",
            "  Using cached nvidia_curand_cu12-10.3.2.106-py3-none-manylinux1_x86_64.whl (56.5 MB)\n",
            "Collecting nvidia-cusolver-cu12==11.4.5.107 (from torch)\n",
            "  Using cached nvidia_cusolver_cu12-11.4.5.107-py3-none-manylinux1_x86_64.whl (124.2 MB)\n",
            "Collecting nvidia-cusparse-cu12==12.1.0.106 (from torch)\n",
            "  Using cached nvidia_cusparse_cu12-12.1.0.106-py3-none-manylinux1_x86_64.whl (196.0 MB)\n",
            "Collecting nvidia-nccl-cu12==2.19.3 (from torch)\n",
            "  Using cached nvidia_nccl_cu12-2.19.3-py3-none-manylinux1_x86_64.whl (166.0 MB)\n",
            "Collecting nvidia-nvtx-cu12==12.1.105 (from torch)\n",
            "  Using cached nvidia_nvtx_cu12-12.1.105-py3-none-manylinux1_x86_64.whl (99 kB)\n",
            "Requirement already satisfied: triton==2.2.0 in /usr/local/lib/python3.10/dist-packages (from torch) (2.2.0)\n",
            "Collecting nvidia-nvjitlink-cu12 (from nvidia-cusolver-cu12==11.4.5.107->torch)\n",
            "  Using cached nvidia_nvjitlink_cu12-12.4.127-py3-none-manylinux2014_x86_64.whl (21.1 MB)\n",
            "Requirement already satisfied: numpy in /usr/local/lib/python3.10/dist-packages (from torchvision) (1.25.2)\n",
            "Requirement already satisfied: MarkupSafe>=2.0 in /usr/local/lib/python3.10/dist-packages (from jinja2->torch) (2.1.5)\n",
            "Requirement already satisfied: mpmath>=0.19 in /usr/local/lib/python3.10/dist-packages (from sympy->torch) (1.3.0)\n",
            "Building wheels for collected packages: pyspark\n",
            "  Building wheel for pyspark (setup.py) ... \u001b[?25l\u001b[?25hdone\n",
            "  Created wheel for pyspark: filename=pyspark-3.5.1-py2.py3-none-any.whl size=317488491 sha256=03ca13e5a1e31b65d1d26f947c49ea11dd778a75defc5d117bdf2a11f6a6d84a\n",
            "  Stored in directory: /root/.cache/pip/wheels/80/1d/60/2c256ed38dddce2fdd93be545214a63e02fbd8d74fb0b7f3a6\n",
            "Successfully built pyspark\n",
            "Installing collected packages: pyspark, nvidia-nvtx-cu12, nvidia-nvjitlink-cu12, nvidia-nccl-cu12, nvidia-curand-cu12, nvidia-cufft-cu12, nvidia-cuda-runtime-cu12, nvidia-cuda-nvrtc-cu12, nvidia-cuda-cupti-cu12, nvidia-cublas-cu12, nvidia-cusparse-cu12, nvidia-cudnn-cu12, nvidia-cusolver-cu12\n",
            "Successfully installed nvidia-cublas-cu12-12.1.3.1 nvidia-cuda-cupti-cu12-12.1.105 nvidia-cuda-nvrtc-cu12-12.1.105 nvidia-cuda-runtime-cu12-12.1.105 nvidia-cudnn-cu12-8.9.2.26 nvidia-cufft-cu12-11.0.2.54 nvidia-curand-cu12-10.3.2.106 nvidia-cusolver-cu12-11.4.5.107 nvidia-cusparse-cu12-12.1.0.106 nvidia-nccl-cu12-2.19.3 nvidia-nvjitlink-cu12-12.4.127 nvidia-nvtx-cu12-12.1.105 pyspark-3.5.1\n"
          ]
        }
      ],
      "source": [
        "!pip install pyspark py4j pillow torch torchvision"
      ]
    },
    {
      "cell_type": "code",
      "execution_count": null,
      "metadata": {
        "colab": {
          "base_uri": "https://localhost:8080/"
        },
        "id": "h3f14xR6zoE5",
        "outputId": "02aa1da5-5a8c-4adc-997a-8f916942bbfc"
      },
      "outputs": [
        {
          "name": "stdout",
          "output_type": "stream",
          "text": [
            "Cloning into 'OFA'...\n",
            "remote: Enumerating objects: 5745, done.\u001b[K\n",
            "remote: Counting objects: 100% (916/916), done.\u001b[K\n",
            "remote: Compressing objects: 100% (254/254), done.\u001b[K\n",
            "remote: Total 5745 (delta 695), reused 662 (delta 662), pack-reused 4829\u001b[K\n",
            "Receiving objects: 100% (5745/5745), 97.78 MiB | 20.77 MiB/s, done.\n",
            "Resolving deltas: 100% (2243/2243), done.\n",
            "Updating files: 100% (3223/3223), done.\n",
            "Processing ./OFA/transformers\n",
            "  Installing build dependencies ... \u001b[?25l\u001b[?25hdone\n",
            "  Getting requirements to build wheel ... \u001b[?25l\u001b[?25hdone\n",
            "  Preparing metadata (pyproject.toml) ... \u001b[?25l\u001b[?25hdone\n",
            "Requirement already satisfied: filelock in /usr/local/lib/python3.10/dist-packages (from transformers==4.18.0.dev0) (3.14.0)\n",
            "Requirement already satisfied: huggingface-hub<1.0,>=0.1.0 in /usr/local/lib/python3.10/dist-packages (from transformers==4.18.0.dev0) (0.20.3)\n",
            "Requirement already satisfied: numpy>=1.17 in /usr/local/lib/python3.10/dist-packages (from transformers==4.18.0.dev0) (1.25.2)\n",
            "Requirement already satisfied: packaging>=20.0 in /usr/local/lib/python3.10/dist-packages (from transformers==4.18.0.dev0) (24.0)\n",
            "Requirement already satisfied: pyyaml>=5.1 in /usr/local/lib/python3.10/dist-packages (from transformers==4.18.0.dev0) (6.0.1)\n",
            "Requirement already satisfied: regex!=2019.12.17 in /usr/local/lib/python3.10/dist-packages (from transformers==4.18.0.dev0) (2023.12.25)\n",
            "Requirement already satisfied: requests in /usr/local/lib/python3.10/dist-packages (from transformers==4.18.0.dev0) (2.31.0)\n",
            "Collecting sacremoses (from transformers==4.18.0.dev0)\n",
            "  Downloading sacremoses-0.1.1-py3-none-any.whl (897 kB)\n",
            "\u001b[2K     \u001b[90m━━━━━━━━━━━━━━━━━━━━━━━━━━━━━━━━━━━━━━━━\u001b[0m \u001b[32m897.5/897.5 kB\u001b[0m \u001b[31m8.0 MB/s\u001b[0m eta \u001b[36m0:00:00\u001b[0m\n",
            "\u001b[?25hRequirement already satisfied: tokenizers!=0.11.3,>=0.11.1 in /usr/local/lib/python3.10/dist-packages (from transformers==4.18.0.dev0) (0.19.1)\n",
            "Requirement already satisfied: tqdm>=4.27 in /usr/local/lib/python3.10/dist-packages (from transformers==4.18.0.dev0) (4.66.4)\n",
            "Requirement already satisfied: fsspec>=2023.5.0 in /usr/local/lib/python3.10/dist-packages (from huggingface-hub<1.0,>=0.1.0->transformers==4.18.0.dev0) (2023.6.0)\n",
            "Requirement already satisfied: typing-extensions>=3.7.4.3 in /usr/local/lib/python3.10/dist-packages (from huggingface-hub<1.0,>=0.1.0->transformers==4.18.0.dev0) (4.11.0)\n",
            "Requirement already satisfied: charset-normalizer<4,>=2 in /usr/local/lib/python3.10/dist-packages (from requests->transformers==4.18.0.dev0) (3.3.2)\n",
            "Requirement already satisfied: idna<4,>=2.5 in /usr/local/lib/python3.10/dist-packages (from requests->transformers==4.18.0.dev0) (3.7)\n",
            "Requirement already satisfied: urllib3<3,>=1.21.1 in /usr/local/lib/python3.10/dist-packages (from requests->transformers==4.18.0.dev0) (2.0.7)\n",
            "Requirement already satisfied: certifi>=2017.4.17 in /usr/local/lib/python3.10/dist-packages (from requests->transformers==4.18.0.dev0) (2024.2.2)\n",
            "Requirement already satisfied: click in /usr/local/lib/python3.10/dist-packages (from sacremoses->transformers==4.18.0.dev0) (8.1.7)\n",
            "Requirement already satisfied: joblib in /usr/local/lib/python3.10/dist-packages (from sacremoses->transformers==4.18.0.dev0) (1.4.2)\n",
            "Building wheels for collected packages: transformers\n",
            "  Building wheel for transformers (pyproject.toml) ... \u001b[?25l\u001b[?25hdone\n",
            "  Created wheel for transformers: filename=transformers-4.18.0.dev0-py3-none-any.whl size=3916748 sha256=575097fdee207b24defe071a5579b8a31bef7c4d7f837c0f06c497a7ed0f30de\n",
            "  Stored in directory: /tmp/pip-ephem-wheel-cache-pmijiibq/wheels/0b/bc/ea/00b6b8998c20c4fe55affe6062a2cddda80308ef9bd5d5877c\n",
            "Successfully built transformers\n",
            "Installing collected packages: sacremoses, transformers\n",
            "  Attempting uninstall: transformers\n",
            "    Found existing installation: transformers 4.40.2\n",
            "    Uninstalling transformers-4.40.2:\n",
            "      Successfully uninstalled transformers-4.40.2\n",
            "Successfully installed sacremoses-0.1.1 transformers-4.18.0.dev0\n",
            "Cloning into 'OFA-medium'...\n",
            "remote: Enumerating objects: 52, done.\u001b[K\n",
            "remote: Total 52 (delta 0), reused 0 (delta 0), pack-reused 52 (from 1)\u001b[K\n",
            "Unpacking objects: 100% (52/52), 541.10 KiB | 3.38 MiB/s, done.\n"
          ]
        }
      ],
      "source": [
        "!git clone --single-branch --branch feature/add_transformers https://github.com/OFA-Sys/OFA.git\n",
        "!pip install OFA/transformers/\n",
        "!git clone https://huggingface.co/OFA-Sys/OFA-medium"
      ]
    },
    {
      "cell_type": "markdown",
      "metadata": {
        "id": "stIaAtSG_nU6"
      },
      "source": [
        "### Imports"
      ]
    },
    {
      "cell_type": "code",
      "execution_count": null,
      "metadata": {
        "id": "idd36Bza_nnD"
      },
      "outputs": [],
      "source": [
        "from pyspark.sql import SparkSession, Row\n",
        "from pyspark.sql.types import BinaryType, IntegerType, StringType, BooleanType, StructType, StructField\n",
        "from pyspark.sql.functions import udf, col, lit\n",
        "from pyspark.sql.functions import min as sql_min\n",
        "from PIL import Image\n",
        "import numpy as np\n",
        "import requests, json, csv, io"
      ]
    },
    {
      "cell_type": "markdown",
      "metadata": {
        "id": "WyutxwgtUx6-"
      },
      "source": [
        "### Prepare raw data"
      ]
    },
    {
      "cell_type": "code",
      "execution_count": null,
      "metadata": {
        "id": "L73D9aEDIbA2"
      },
      "outputs": [],
      "source": [
        "fname_metadata = 'tour_photo.csv'\n",
        "key = 'TOUR_API_KEY'\n",
        "num_of_rows = '15'\n",
        "\n",
        "def collect_metadata():\n",
        "    # User parameters\n",
        "\n",
        "    # Request parameters\n",
        "    base_url = 'http://apis.data.go.kr/B551011/PhotoGalleryService1/galleryList1'\n",
        "    params = {\n",
        "        'numOfRows': num_of_rows,\n",
        "        'pageNo': '1',\n",
        "        'MobileOS' : 'ETC',\n",
        "        'MobileApp' : 'AppTest',\n",
        "        'arrange' : 'A',\n",
        "        '_type' : 'json',\n",
        "        'serviceKey' : key}\n",
        "\n",
        "    # Get request\n",
        "    response= requests.get(base_url,params=params).json()['response']\n",
        "\n",
        "    # Save as csv file\n",
        "    with open(fname_metadata, 'w', newline='', encoding='utf-8') as file:\n",
        "        writer = csv.DictWriter(file, fieldnames=response[0].keys())\n",
        "        writer.writeheader()\n",
        "        writer.writerows(response['body']['items']['item'])\n"
      ]
    },
    {
      "cell_type": "code",
      "execution_count": null,
      "metadata": {
        "id": "KFEzCPBxncm4"
      },
      "outputs": [],
      "source": [
        "# Folder name to save the photos\n",
        "save_folder = \"tour_photos\"\n",
        "\n",
        "def download():\n",
        "    with open(fname_metadata, 'r', encoding='utf-8') as file:\n",
        "        csv_reader = csv.reader(file)\n",
        "        next(csv_reader)  # skip header\n",
        "\n",
        "        for row in csv_reader:\n",
        "            img_url = row['galWebImageUrl']  # Parse image url\n",
        "            img_name = img_url.split('/')[-1]  # Extract filename\n",
        "\n",
        "            try:\n",
        "                response = requests.get(img_url)\n",
        "                response.raise_for_status()\n",
        "            except requests.exceptions.RequestException as e:\n",
        "                print(f\"Error downloading image from {img_url}: {e}\")\n",
        "                continue\n",
        "\n",
        "            # Save\n",
        "            with open(f\"{save_folder}/{img_name}\", 'wb') as img_file:\n",
        "                img_file.write(response.content)\n"
      ]
    },
    {
      "cell_type": "markdown",
      "metadata": {
        "id": "blDWkEA9n7iU"
      },
      "source": [
        "### Spark Session"
      ]
    },
    {
      "cell_type": "code",
      "execution_count": null,
      "metadata": {
        "id": "JouTjFVgn-hE"
      },
      "outputs": [],
      "source": [
        "# SparkSession\n",
        "spark = (\n",
        "    SparkSession.builder\n",
        "        .master('local[*]')\n",
        "        .appName('K-TourImageCaption')\n",
        "        .getOrCreate()\n",
        "    )"
      ]
    },
    {
      "cell_type": "markdown",
      "metadata": {
        "id": "WY5eYeYPTnaA"
      },
      "source": [
        "### Exploration metadata"
      ]
    },
    {
      "cell_type": "code",
      "execution_count": null,
      "metadata": {
        "colab": {
          "base_uri": "https://localhost:8080/"
        },
        "id": "3XrC2yeojYiV",
        "outputId": "f3047f2b-81af-494f-8b2f-06b8d6bbcad8"
      },
      "outputs": [
        {
          "name": "stdout",
          "output_type": "stream",
          "text": [
            "root\n",
            " |-- galContentId: integer (nullable = true)\n",
            " |-- galContentTypeId: integer (nullable = true)\n",
            " |-- galTitle: string (nullable = true)\n",
            " |-- galWebImageUrl: string (nullable = true)\n",
            " |-- galCreatedtime: long (nullable = true)\n",
            " |-- galModifiedtime: long (nullable = true)\n",
            " |-- galPhotographyMonth: integer (nullable = true)\n",
            " |-- galPhotographyLocation: string (nullable = true)\n",
            " |-- galPhotographer: string (nullable = true)\n",
            " |-- galSearchKeyword: string (nullable = true)\n",
            "\n"
          ]
        }
      ],
      "source": [
        "df_meta = spark.read.csv(fname_metadata, header=True, inferSchema=True)\n",
        "df_meta.printSchema()"
      ]
    },
    {
      "cell_type": "markdown",
      "metadata": {
        "id": "US1C84-92r3c"
      },
      "source": [
        "### Load images to spark dataframe"
      ]
    },
    {
      "cell_type": "code",
      "execution_count": null,
      "metadata": {
        "colab": {
          "base_uri": "https://localhost:8080/"
        },
        "id": "nK2CFcczRcml",
        "outputId": "f9d6ff75-04eb-4dc4-f6c7-d01c52a67ac4"
      },
      "outputs": [
        {
          "name": "stdout",
          "output_type": "stream",
          "text": [
            "root\n",
            " |-- image: struct (nullable = true)\n",
            " |    |-- origin: string (nullable = true)\n",
            " |    |-- height: integer (nullable = true)\n",
            " |    |-- width: integer (nullable = true)\n",
            " |    |-- nChannels: integer (nullable = true)\n",
            " |    |-- mode: integer (nullable = true)\n",
            " |    |-- data: binary (nullable = true)\n",
            "\n"
          ]
        }
      ],
      "source": [
        "# Load images to spark dataframe\n",
        "df_img_raw = spark.read.format('image').load(save_folder)\n",
        "\n",
        "df_img_raw.printSchema()"
      ]
    },
    {
      "cell_type": "markdown",
      "metadata": {
        "id": "USDUyOjPArTI"
      },
      "source": [
        "### Image <-> Bytes"
      ]
    },
    {
      "cell_type": "code",
      "execution_count": null,
      "metadata": {
        "id": "KuyvAXTfANHo"
      },
      "outputs": [],
      "source": [
        "def decode(data: bytearray, w: int, h: int, c: int = 3) -> Image:\n",
        "    mode = 'L' if c == 1 else 'RGB'\n",
        "    # img = Image.open(io.BytesIO(bytes(data)), mode=mode)\n",
        "    nparr = (\n",
        "        np\n",
        "        .frombuffer(bytes(data), np.uint8)\n",
        "        .reshape((h,w,c))\n",
        "    )\n",
        "    img = Image.fromarray(nparr, mode=mode)\n",
        "    return img\n",
        "\n",
        "def encode(img: Image) -> bytearray:\n",
        "    nparr = np.array(img).flatten()\n",
        "    return bytearray(nparr)"
      ]
    },
    {
      "cell_type": "markdown",
      "metadata": {
        "id": "RbuEX5z9T7MZ"
      },
      "source": [
        "## Pre-processing"
      ]
    },
    {
      "cell_type": "markdown",
      "metadata": {
        "id": "U0ZkNbILT-Uv"
      },
      "source": [
        "### Validate images"
      ]
    },
    {
      "cell_type": "code",
      "execution_count": null,
      "metadata": {
        "colab": {
          "base_uri": "https://localhost:8080/"
        },
        "id": "mYYD5ZQqUgAB",
        "outputId": "5406f6fe-c854-4202-f976-79e04dc39d55"
      },
      "outputs": [
        {
          "name": "stdout",
          "output_type": "stream",
          "text": [
            "Previous dataframe's size : 15\n",
            "Filtered dataframe's size : 8\n"
          ]
        }
      ],
      "source": [
        "@udf(returnType=BooleanType())\n",
        "def validate_image(image_path) -> bool:\n",
        "    try:\n",
        "        # Trim first 7 chars \"file://\" and load.\n",
        "        img = Image.open(image_path[7:])\n",
        "        # An error will occur if it's broken.\n",
        "        img.verify()\n",
        "        return True\n",
        "    except :\n",
        "        # if return is False, it will be dropped.\n",
        "        return False\n",
        "\n",
        "previous_size = df_img_raw.count()\n",
        "\n",
        "# Drop broken images\n",
        "df_valid = df_img_raw.filter(validate_image(col('image.origin')))\n",
        "print(f'Previous dataframe\\'s size : {previous_size}')\n",
        "print(f'Filtered dataframe\\'s size : {df_valid.count()}')"
      ]
    },
    {
      "cell_type": "markdown",
      "metadata": {
        "id": "IFOsVVDmtWYk"
      },
      "source": [
        "### Indexing"
      ]
    },
    {
      "cell_type": "code",
      "execution_count": null,
      "metadata": {
        "id": "DUb0UaHptW41"
      },
      "outputs": [],
      "source": [
        "@udf(returnType=StringType())\n",
        "def parse_id(filepath : str) -> str:\n",
        "    # Trim out the path and ext.\n",
        "    return filepath.split('/')[-1][:-4]\n",
        "\n",
        "df_indexed = (\n",
        "    df_valid\n",
        "        .withColumn('id', parse_id('image.origin'))\n",
        "        .withColumn('image',\n",
        "                    col('image').dropFields('origin')\n",
        "                    )\n",
        ")"
      ]
    },
    {
      "cell_type": "markdown",
      "metadata": {
        "id": "6hAzIbUwpsnQ"
      },
      "source": [
        "### BGR -> RGB"
      ]
    },
    {
      "cell_type": "code",
      "execution_count": null,
      "metadata": {
        "id": "FzX_3e9rps5v"
      },
      "outputs": [],
      "source": [
        "@udf(returnType=BinaryType())\n",
        "def bgr2rgb(d : bytearray, w : int, h : int) -> bytearray:\n",
        "    flipped_bytes = (\n",
        "        np\n",
        "        .frombuffer(bytes(d), np.uint8)\n",
        "        .reshape((h,w,3))[...,::-1]\n",
        "        .flatten()\n",
        "    )\n",
        "    return bytearray(flipped_bytes)\n",
        "\n",
        "df_rgb = (\n",
        "    df_indexed\n",
        "    .withColumn('image',\n",
        "                col('image')\n",
        "                .withField('data', bgr2rgb('image.data', 'image.width', 'image.height'))\n",
        "    )\n",
        ")"
      ]
    },
    {
      "cell_type": "markdown",
      "metadata": {
        "id": "U8JGeKciUCTd"
      },
      "source": [
        "### Resize"
      ]
    },
    {
      "cell_type": "markdown",
      "metadata": {
        "id": "1emrXZv6_9-j"
      },
      "source": [
        "#### Calculate target size"
      ]
    },
    {
      "cell_type": "code",
      "execution_count": null,
      "metadata": {
        "colab": {
          "base_uri": "https://localhost:8080/"
        },
        "id": "pMnBnbGYmHIk",
        "outputId": "2604d602-2a6d-4655-b578-4bfb6136b08e"
      },
      "outputs": [
        {
          "name": "stdout",
          "output_type": "stream",
          "text": [
            "532\n"
          ]
        }
      ],
      "source": [
        "@udf(returnType=IntegerType())\n",
        "def get_min(w : int, h : int) -> int:\n",
        "    return min(w,h)\n",
        "\n",
        "# Target size to be cropped\n",
        "len_min = (\n",
        "    df_rgb\n",
        "    .select(get_min('image.width','image.height').alias('_'))\n",
        "    .select(sql_min('_'))\n",
        "    .first()[0]\n",
        ")\n",
        "\n",
        "print(len_min)"
      ]
    },
    {
      "cell_type": "markdown",
      "metadata": {
        "id": "Z7STHSOaDbaw"
      },
      "source": [
        "#### Crop"
      ]
    },
    {
      "cell_type": "code",
      "execution_count": null,
      "metadata": {
        "id": "nkTjaupuMEG7"
      },
      "outputs": [],
      "source": [
        "@udf(returnType=BinaryType())\n",
        "def crop(row: Row, x: int) -> bytearray:\n",
        "    w,h = row['width'],row['height']\n",
        "    # Calculate the cordinates to trim\n",
        "    l,t,r,b = (w - x) / 2, (h - x) / 2, (w + x) / 2, (h + x) / 2\n",
        "    # Load image from data\n",
        "    image = decode(row['data'],w,h)\n",
        "    # Crop\n",
        "    image_cropped = image.crop((l,t,r,b))\n",
        "    # Encode to binary data\n",
        "    bin_cropped = encode(image_cropped)\n",
        "    return bin_cropped\n",
        "\n",
        "df_resized = (\n",
        "    df_rgb\n",
        "    .withColumn('image',\n",
        "                col('image')\n",
        "                .withField('data', crop('image',lit(len_min)))\n",
        "                .withField('width', lit(len_min))\n",
        "                .withField('height', lit(len_min))\n",
        "                )\n",
        ")"
      ]
    },
    {
      "cell_type": "markdown",
      "metadata": {
        "id": "kVv6eR_UUKJQ"
      },
      "source": [
        "### Convert to grayscale (Unused)"
      ]
    },
    {
      "cell_type": "code",
      "execution_count": null,
      "metadata": {
        "id": "pRNIa8EX46qv"
      },
      "outputs": [],
      "source": [
        "@udf(returnType=BinaryType())\n",
        "def grayscale(data : bytearray, size : int) -> bytearray:\n",
        "    image = decode(data,size,size)\n",
        "    image_gray = image.convert('L')\n",
        "    result = encode(image_gray)\n",
        "    return result\n",
        "\n",
        "df_grayscale = (\n",
        "    df_resized\n",
        "    .withColumn('image',\n",
        "                col('image')\n",
        "                .withField('data',grayscale('image.data',lit(len_min)))\n",
        "                .withField('nChannels',lit(1))\n",
        "    )\n",
        ")"
      ]
    },
    {
      "cell_type": "markdown",
      "metadata": {
        "id": "A-JPA9l9ELG8"
      },
      "source": [
        "### Visualize"
      ]
    },
    {
      "cell_type": "code",
      "execution_count": null,
      "metadata": {
        "id": "2Bg8eK7F74KQ"
      },
      "outputs": [],
      "source": [
        "def visualize():\n",
        "    x = df_rgb.first()['image']\n",
        "    y = df_resized.first()['image']\n",
        "    z = df_grayscale.first()['image']\n",
        "\n",
        "    display(decode(x['data'], x['width'], x['height']))\n",
        "    display(decode(y['data'], y['width'], y['width']))\n",
        "    display(Image.frombytes(data=bytes(z['data']),size=(z['width'],z['width']),mode='L'))"
      ]
    },
    {
      "cell_type": "markdown",
      "metadata": {
        "id": "UxIOWtsz5pPl"
      },
      "source": [
        "### Normalize"
      ]
    },
    {
      "cell_type": "code",
      "execution_count": null,
      "metadata": {
        "id": "SJfyU3eo5r-D"
      },
      "outputs": [],
      "source": [
        "@udf(returnType=BinaryType())\n",
        "def normalize(data: bytearray, w: int,h: int, mean, std) -> bytearray:\n",
        "    buffer = bytes(data)\n",
        "    nparr = np.frombuffer(buffer, np.uint8).reshape((h, w, 3))\n",
        "    min = np.min(nparr, axis=(0,1))\n",
        "    max = np.max(nparr, axis=(0,1))\n",
        "    nparr_norm = ((nparr-min)/(max-min) - mean) / std\n",
        "    return bytearray(nparr_norm.flatten())\n",
        "\n",
        "# Referred to OFA example\n",
        "mean, std = [0.5], [0.5]\n",
        "\n",
        "df_norm = (\n",
        "    df_resized\n",
        "    .withColumn('image',\n",
        "                col('image')\n",
        "                .withField('data',normalize('image.data','image.width','image.height',lit(mean), lit(std)))\n",
        "                )\n",
        ")"
      ]
    },
    {
      "cell_type": "markdown",
      "metadata": {
        "id": "WQ63Qoh2ku14"
      },
      "source": [
        "### Attach human hints"
      ]
    },
    {
      "cell_type": "code",
      "execution_count": null,
      "metadata": {
        "colab": {
          "base_uri": "https://localhost:8080/"
        },
        "id": "QxbpOrGNk7sw",
        "outputId": "b958578e-a67e-46c1-cdb1-89844e61835d"
      },
      "outputs": [
        {
          "name": "stdout",
          "output_type": "stream",
          "text": [
            "root\n",
            " |-- id: string (nullable = true)\n",
            " |-- image: struct (nullable = true)\n",
            " |    |-- height: integer (nullable = false)\n",
            " |    |-- width: integer (nullable = false)\n",
            " |    |-- nChannels: integer (nullable = true)\n",
            " |    |-- mode: integer (nullable = true)\n",
            " |    |-- data: binary (nullable = true)\n",
            " |-- tags: string (nullable = true)\n",
            " |-- loc: string (nullable = true)\n",
            "\n"
          ]
        }
      ],
      "source": [
        "df_joined = (\n",
        "    df_norm\n",
        "    .join(df_meta, df_norm.id == df_meta.galContentId, 'inner')\n",
        "    .select(\n",
        "        'id',\n",
        "        'image',\n",
        "        col('galSearchKeyword').alias('tags'),\n",
        "        col('galPhotographyLocation').alias('loc')\n",
        "    )\n",
        ")\n",
        "df_joined.printSchema()"
      ]
    },
    {
      "cell_type": "markdown",
      "metadata": {
        "id": "WNKTjZO4LxZE"
      },
      "source": [
        "## Generate captions"
      ]
    },
    {
      "cell_type": "markdown",
      "metadata": {
        "id": "J5ZVkucRNpi4"
      },
      "source": [
        "#### Initialize model"
      ]
    },
    {
      "cell_type": "code",
      "execution_count": null,
      "metadata": {
        "colab": {
          "base_uri": "https://localhost:8080/",
          "height": 234,
          "referenced_widgets": [
            "a0b312a59d1949e29e998149c65a41e6",
            "1f10cc758ff1429a94bd31df55821d7a",
            "60a7fb7a070a4f619fd805c35d1bfd1c",
            "a3308d2f2e7b49eeb7d67b2d85f8e2c4",
            "0843891db27748729c8f0c0be8ad5089",
            "18e41df4911647b5b4a922d524c08810",
            "2cbdf8c09c5443928ff5a873cc62b120",
            "d67ca07dc3464b6394f70cc5bc102d23",
            "5391fa1776a74e969825fd2a76515083",
            "14ba6c0b7d3c4ed29a3a12adaf3f9630",
            "875b4b87c0ac4b77822c8efede74f0f3",
            "6d880e0320bc4c6490e415668ed40903",
            "474b8f60d6bf4f6d9f0f9837d8096f64",
            "76b3d898eea64b2da5d91046c974e5b9",
            "4d6d1c6fb8834762998d80b1f24cf285",
            "0a25be7005c34197a28e46ba9af872e0",
            "e4920d86712b49128565f8cdcaced690",
            "59f3a945d1334d0e8fb786a274cbb73a",
            "7347b580f4804a0dab63a5c42fac7c11",
            "d23f2dfd324a4c6da7345a76e04a65ac",
            "c07708b9c3d54965a7cda7fb0bc7ed35",
            "b154cf13e16549e9ab381d6200d18555",
            "9d55ad673aa7448e9e186f34f772be0e",
            "0d1e2267e24a446da78fa7bcf39da4b7",
            "04c9bcbb45b5436aa50d6710a836ee8b",
            "266c9001579d4be49c8f4fc0919e81c0",
            "739f35fe18b147989316968fd240927a",
            "7f8f0e6020064980a4b76f355e065cb0",
            "e0a8c3cdd1c7414eb29e104dca12b1fb",
            "df1d004d82074e8ca7bcb6c7657e9c26",
            "7d69b2f3404944eeb05e188d52b1caf9",
            "302fee00b1fc4155b361bf5bc2b4ba36",
            "cea7cb8cfb3642e5a7068054d7d33e53",
            "053cab85f6754c498bc183a8d8bc71ac",
            "e72e015b2b394fa5b326c38d67f5ab2b",
            "0aac509e15c94122b8caa36de0fc975e",
            "c946ecc2457e4bbca09921e369734d81",
            "aae804c7f2214e4ea42daee52868154a",
            "43dd7282ebc54b40ba94c56ddbeacd90",
            "e52c07421aa24cfebcf992598ade4ee4",
            "4b48e489a03744789a47bf7e8410d259",
            "cbc2f998c1fd4df480dc3df933622b7c",
            "4c1b50c79c50425f9cbac9f1fd62c1b8",
            "10cd024ffe124aef82cd6162fe1879cf"
          ]
        },
        "id": "Qnno43D6Wibc",
        "outputId": "ccb8924f-d04b-48d0-810d-0afdac19daf6"
      },
      "outputs": [],
      "source": [
        "from torchvision import transforms\n",
        "from transformers import OFATokenizer, OFAModel\n",
        "from transformers.models.ofa.generate import sequence_generator\n",
        "\n",
        "ckpt_dir = 'OFA-Sys/ofa-medium'\n",
        "tokenizer_ofa = OFATokenizer.from_pretrained(ckpt_dir)\n",
        "model_ofa = OFAModel.from_pretrained(ckpt_dir, use_cache=True)"
      ]
    },
    {
      "cell_type": "markdown",
      "metadata": {
        "id": "gl-sWIJ8N0ya"
      },
      "source": [
        "#### Prepare inputs"
      ]
    },
    {
      "cell_type": "code",
      "execution_count": null,
      "metadata": {
        "id": "ZRhakqm4N1DE"
      },
      "outputs": [],
      "source": [
        "import torch\n",
        "\n",
        "def to_tensor(data: bytearray, size: int):\n",
        "    nparr = (\n",
        "        np\n",
        "        .frombuffer(bytes(data), np.float64)\n",
        "        .reshape((size,size,3))\n",
        "        .transpose((2, 0, 1))\n",
        "    )\n",
        "\n",
        "    tensor = (\n",
        "        torch\n",
        "        .tensor(nparr)\n",
        "        .unsqueeze(0)\n",
        "        .to(torch.float32)\n",
        "    )\n",
        "\n",
        "    return tensor"
      ]
    },
    {
      "cell_type": "markdown",
      "metadata": {
        "id": "e004ABhoNu6N"
      },
      "source": [
        "#### Model inference"
      ]
    },
    {
      "cell_type": "code",
      "execution_count": null,
      "metadata": {
        "id": "Z0Ip0KW-NxKr"
      },
      "outputs": [],
      "source": [
        "result_captions = []\n",
        "\n",
        "# using the generator of fairseq version\n",
        "generator = sequence_generator.SequenceGenerator(\n",
        "                    tokenizer=tokenizer,\n",
        "                    beam_size=3,\n",
        "                    max_len_b=50,\n",
        "                    min_len=0,\n",
        "                    no_repeat_ngram_size=3,\n",
        "                )\n",
        "\n",
        "captions = []\n",
        "for row in df_joined.collect():\n",
        "    id = row['id']\n",
        "    data = row['image']['data']\n",
        "    size = row['image']['width']\n",
        "    loc = row['loc']\n",
        "    tags = row['tags']\n",
        "\n",
        "    input_tensor = to_tensor(data, size)\n",
        "\n",
        "    context = f'''\n",
        "        What does the image describe? Explain it in as much detail as possible.\n",
        "    '''\n",
        "    #  if image_location != '':\n",
        "    #      context += '\\n' + f'The location of the photo : {image_location}'\n",
        "\n",
        "    inputs = tokenizer([context], return_tensors=\"pt\").input_ids\n",
        "\n",
        "    data = {}\n",
        "    data[\"net_input\"] = {\"input_ids\": inputs, 'patch_images': input_tensor, 'patch_masks':torch.tensor([True])}\n",
        "    gen_output = generator.generate([model], data)\n",
        "    gen = [gen_output[i][0][\"tokens\"] for i in range(len(gen_output))]\n",
        "\n",
        "    # using the generator of huggingface version\n",
        "    gen = model.generate(inputs, patch_images=input_tensor, num_beams=3, no_repeat_ngram_size=3)\n",
        "    caption = tokenizer.batch_decode(gen, skip_special_tokens=True)[0].strip()\n",
        "\n",
        "    captions.append(Row(id=id, caption=caption))"
      ]
    },
    {
      "cell_type": "markdown",
      "metadata": {
        "id": "aLwxaFD4-smZ"
      },
      "source": [
        "### Get response"
      ]
    },
    {
      "cell_type": "code",
      "execution_count": null,
      "metadata": {
        "colab": {
          "base_uri": "https://localhost:8080/",
          "height": 211
        },
        "id": "f6dIN7BzQ8VQ",
        "outputId": "5bf64ec3-0cf6-49d9-c7bb-24b1fb6b36cc"
      },
      "outputs": [],
      "source": [
        "df_c_temp = spark.createDataFrame(captions)\n",
        "df_captioned = (\n",
        "    df_joined\n",
        "    .join(df_c_temp, df_joined.id == df_c_temp.id, 'inner')\n",
        ")"
      ]
    },
    {
      "cell_type": "code",
      "execution_count": null,
      "metadata": {
        "colab": {
          "base_uri": "https://localhost:8080/"
        },
        "id": "5n78Ysi9VEMg",
        "outputId": "635dbeb9-9aa8-4e63-b5cf-837f4bfaeaaa"
      },
      "outputs": [
        {
          "name": "stdout",
          "output_type": "stream",
          "text": [
            "-RECORD 0------------------------------------------------------------------------------------------------------------------------------------------------\n",
            " tags    | 시루떡, 시루팥떡, 팥시루떡, 한국음식, 한식, 칠석, 명절음식, 전통음식, 한복, 젓가락                                                            \n",
            " caption | a piece of chocolate cake with a cup of tea                                                                                                   \n",
            "-RECORD 1------------------------------------------------------------------------------------------------------------------------------------------------\n",
            " tags    | 식혜, 한국음식, 한식, 설날, 명절음식, 전통음료                                                                                                \n",
            " caption | i'm not sure if i 'd like to use a spoon or spoon, but                                                                                        \n",
            "-RECORD 2------------------------------------------------------------------------------------------------------------------------------------------------\n",
            " tags    | 오이소박이, 오이김치, 한국음식, 한식, 발효음식, 칠석, 명절음식, 전통음식, 흰쌀밥, 젓가락, 한복                                                \n",
            " caption | a plate of asparagus with a bowl of soup and chopsticks.                                                                                      \n",
            "-RECORD 3------------------------------------------------------------------------------------------------------------------------------------------------\n",
            " tags    | 잡채, 한국음식, 한식, 궁중음식, 궁중요리, 명절음식, 전통음식, 젓가락                                                                          \n",
            " caption | a plate of chinese food with chopsticks on a white plate.                                                                                     \n",
            "-RECORD 4------------------------------------------------------------------------------------------------------------------------------------------------\n",
            " tags    | 제호탕, 한국음식, 한식, 단오, 수릿날, 명절음식, 전통음료                                                                                      \n",
            " caption | a bowl of soup with a hand holding a spoonful of soup.                                                                                        \n",
            "-RECORD 5------------------------------------------------------------------------------------------------------------------------------------------------\n",
            " tags    | 양념치킨, 통닭, 한국음식, 한식, 치맥, 맥주, 치킨무                                                                                            \n",
            " caption | meatballs on a plate with a fork and a plate of sauce on the side.                                                                            \n",
            "-RECORD 6------------------------------------------------------------------------------------------------------------------------------------------------\n",
            " tags    | 원주 반계리 은행나무, 강원특별자치도 원주시, 천연기념물 제167호, 은행잎, 보호수, 고목, 눈, 설경, 겨울, 드론촬영, 드론사진, 항공촬영, 파노라마 \n",
            " caption | snow on the road to the top of the hill                                                                                                       \n",
            "-RECORD 7------------------------------------------------------------------------------------------------------------------------------------------------\n",
            " tags    | 거돈사지, 강원특별자치도 원주시, 사적 제168호, 절터, 사찰터, 눈, 설경, 겨울, 드론촬영, 드론사진, 항공촬영                                     \n",
            " caption | the view from the top of the hill.                                                                                                            \n",
            "\n"
          ]
        }
      ],
      "source": [
        "df_captioned.select('tags','caption').show(vertical=True, truncate=False)"
      ]
    }
  ],
  "metadata": {
    "accelerator": "TPU",
    "colab": {
      "gpuType": "V28",
      "provenance": []
    },
    "kernelspec": {
      "display_name": "Python 3",
      "name": "python3"
    },
    "language_info": {
      "name": "python"
    },
    "widgets": {
      "application/vnd.jupyter.widget-state+json": {
        "041021c90cfe4a45a0898276e19080d8": {
          "model_module": "@jupyter-widgets/base",
          "model_module_version": "1.2.0",
          "model_name": "LayoutModel",
          "state": {
            "_model_module": "@jupyter-widgets/base",
            "_model_module_version": "1.2.0",
            "_model_name": "LayoutModel",
            "_view_count": null,
            "_view_module": "@jupyter-widgets/base",
            "_view_module_version": "1.2.0",
            "_view_name": "LayoutView",
            "align_content": null,
            "align_items": null,
            "align_self": null,
            "border": null,
            "bottom": null,
            "display": null,
            "flex": null,
            "flex_flow": null,
            "grid_area": null,
            "grid_auto_columns": null,
            "grid_auto_flow": null,
            "grid_auto_rows": null,
            "grid_column": null,
            "grid_gap": null,
            "grid_row": null,
            "grid_template_areas": null,
            "grid_template_columns": null,
            "grid_template_rows": null,
            "height": null,
            "justify_content": null,
            "justify_items": null,
            "left": null,
            "margin": null,
            "max_height": null,
            "max_width": null,
            "min_height": null,
            "min_width": null,
            "object_fit": null,
            "object_position": null,
            "order": null,
            "overflow": null,
            "overflow_x": null,
            "overflow_y": null,
            "padding": null,
            "right": null,
            "top": null,
            "visibility": null,
            "width": null
          }
        },
        "04c9bcbb45b5436aa50d6710a836ee8b": {
          "model_module": "@jupyter-widgets/controls",
          "model_module_version": "1.5.0",
          "model_name": "FloatProgressModel",
          "state": {
            "_dom_classes": [],
            "_model_module": "@jupyter-widgets/controls",
            "_model_module_version": "1.5.0",
            "_model_name": "FloatProgressModel",
            "_view_count": null,
            "_view_module": "@jupyter-widgets/controls",
            "_view_module_version": "1.5.0",
            "_view_name": "ProgressView",
            "bar_style": "success",
            "description": "",
            "description_tooltip": null,
            "layout": "IPY_MODEL_df1d004d82074e8ca7bcb6c7657e9c26",
            "max": 1390,
            "min": 0,
            "orientation": "horizontal",
            "style": "IPY_MODEL_7d69b2f3404944eeb05e188d52b1caf9",
            "value": 1390
          }
        },
        "053cab85f6754c498bc183a8d8bc71ac": {
          "model_module": "@jupyter-widgets/controls",
          "model_module_version": "1.5.0",
          "model_name": "HBoxModel",
          "state": {
            "_dom_classes": [],
            "_model_module": "@jupyter-widgets/controls",
            "_model_module_version": "1.5.0",
            "_model_name": "HBoxModel",
            "_view_count": null,
            "_view_module": "@jupyter-widgets/controls",
            "_view_module_version": "1.5.0",
            "_view_name": "HBoxView",
            "box_style": "",
            "children": [
              "IPY_MODEL_e72e015b2b394fa5b326c38d67f5ab2b",
              "IPY_MODEL_0aac509e15c94122b8caa36de0fc975e",
              "IPY_MODEL_c946ecc2457e4bbca09921e369734d81"
            ],
            "layout": "IPY_MODEL_aae804c7f2214e4ea42daee52868154a"
          }
        },
        "0843891db27748729c8f0c0be8ad5089": {
          "model_module": "@jupyter-widgets/base",
          "model_module_version": "1.2.0",
          "model_name": "LayoutModel",
          "state": {
            "_model_module": "@jupyter-widgets/base",
            "_model_module_version": "1.2.0",
            "_model_name": "LayoutModel",
            "_view_count": null,
            "_view_module": "@jupyter-widgets/base",
            "_view_module_version": "1.2.0",
            "_view_name": "LayoutView",
            "align_content": null,
            "align_items": null,
            "align_self": null,
            "border": null,
            "bottom": null,
            "display": null,
            "flex": null,
            "flex_flow": null,
            "grid_area": null,
            "grid_auto_columns": null,
            "grid_auto_flow": null,
            "grid_auto_rows": null,
            "grid_column": null,
            "grid_gap": null,
            "grid_row": null,
            "grid_template_areas": null,
            "grid_template_columns": null,
            "grid_template_rows": null,
            "height": null,
            "justify_content": null,
            "justify_items": null,
            "left": null,
            "margin": null,
            "max_height": null,
            "max_width": null,
            "min_height": null,
            "min_width": null,
            "object_fit": null,
            "object_position": null,
            "order": null,
            "overflow": null,
            "overflow_x": null,
            "overflow_y": null,
            "padding": null,
            "right": null,
            "top": null,
            "visibility": null,
            "width": null
          }
        },
        "0a25be7005c34197a28e46ba9af872e0": {
          "model_module": "@jupyter-widgets/base",
          "model_module_version": "1.2.0",
          "model_name": "LayoutModel",
          "state": {
            "_model_module": "@jupyter-widgets/base",
            "_model_module_version": "1.2.0",
            "_model_name": "LayoutModel",
            "_view_count": null,
            "_view_module": "@jupyter-widgets/base",
            "_view_module_version": "1.2.0",
            "_view_name": "LayoutView",
            "align_content": null,
            "align_items": null,
            "align_self": null,
            "border": null,
            "bottom": null,
            "display": null,
            "flex": null,
            "flex_flow": null,
            "grid_area": null,
            "grid_auto_columns": null,
            "grid_auto_flow": null,
            "grid_auto_rows": null,
            "grid_column": null,
            "grid_gap": null,
            "grid_row": null,
            "grid_template_areas": null,
            "grid_template_columns": null,
            "grid_template_rows": null,
            "height": null,
            "justify_content": null,
            "justify_items": null,
            "left": null,
            "margin": null,
            "max_height": null,
            "max_width": null,
            "min_height": null,
            "min_width": null,
            "object_fit": null,
            "object_position": null,
            "order": null,
            "overflow": null,
            "overflow_x": null,
            "overflow_y": null,
            "padding": null,
            "right": null,
            "top": null,
            "visibility": null,
            "width": null
          }
        },
        "0aac509e15c94122b8caa36de0fc975e": {
          "model_module": "@jupyter-widgets/controls",
          "model_module_version": "1.5.0",
          "model_name": "FloatProgressModel",
          "state": {
            "_dom_classes": [],
            "_model_module": "@jupyter-widgets/controls",
            "_model_module_version": "1.5.0",
            "_model_name": "FloatProgressModel",
            "_view_count": null,
            "_view_module": "@jupyter-widgets/controls",
            "_view_module_version": "1.5.0",
            "_view_name": "ProgressView",
            "bar_style": "success",
            "description": "",
            "description_tooltip": null,
            "layout": "IPY_MODEL_4b48e489a03744789a47bf7e8410d259",
            "max": 438829479,
            "min": 0,
            "orientation": "horizontal",
            "style": "IPY_MODEL_cbc2f998c1fd4df480dc3df933622b7c",
            "value": 438829479
          }
        },
        "0d1e2267e24a446da78fa7bcf39da4b7": {
          "model_module": "@jupyter-widgets/controls",
          "model_module_version": "1.5.0",
          "model_name": "HTMLModel",
          "state": {
            "_dom_classes": [],
            "_model_module": "@jupyter-widgets/controls",
            "_model_module_version": "1.5.0",
            "_model_name": "HTMLModel",
            "_view_count": null,
            "_view_module": "@jupyter-widgets/controls",
            "_view_module_version": "1.5.0",
            "_view_name": "HTMLView",
            "description": "",
            "description_tooltip": null,
            "layout": "IPY_MODEL_7f8f0e6020064980a4b76f355e065cb0",
            "placeholder": "​",
            "style": "IPY_MODEL_e0a8c3cdd1c7414eb29e104dca12b1fb",
            "value": "Downloading: 100%"
          }
        },
        "10cd024ffe124aef82cd6162fe1879cf": {
          "model_module": "@jupyter-widgets/controls",
          "model_module_version": "1.5.0",
          "model_name": "DescriptionStyleModel",
          "state": {
            "_model_module": "@jupyter-widgets/controls",
            "_model_module_version": "1.5.0",
            "_model_name": "DescriptionStyleModel",
            "_view_count": null,
            "_view_module": "@jupyter-widgets/base",
            "_view_module_version": "1.2.0",
            "_view_name": "StyleView",
            "description_width": ""
          }
        },
        "14ba6c0b7d3c4ed29a3a12adaf3f9630": {
          "model_module": "@jupyter-widgets/base",
          "model_module_version": "1.2.0",
          "model_name": "LayoutModel",
          "state": {
            "_model_module": "@jupyter-widgets/base",
            "_model_module_version": "1.2.0",
            "_model_name": "LayoutModel",
            "_view_count": null,
            "_view_module": "@jupyter-widgets/base",
            "_view_module_version": "1.2.0",
            "_view_name": "LayoutView",
            "align_content": null,
            "align_items": null,
            "align_self": null,
            "border": null,
            "bottom": null,
            "display": null,
            "flex": null,
            "flex_flow": null,
            "grid_area": null,
            "grid_auto_columns": null,
            "grid_auto_flow": null,
            "grid_auto_rows": null,
            "grid_column": null,
            "grid_gap": null,
            "grid_row": null,
            "grid_template_areas": null,
            "grid_template_columns": null,
            "grid_template_rows": null,
            "height": null,
            "justify_content": null,
            "justify_items": null,
            "left": null,
            "margin": null,
            "max_height": null,
            "max_width": null,
            "min_height": null,
            "min_width": null,
            "object_fit": null,
            "object_position": null,
            "order": null,
            "overflow": null,
            "overflow_x": null,
            "overflow_y": null,
            "padding": null,
            "right": null,
            "top": null,
            "visibility": null,
            "width": null
          }
        },
        "14d3ccba7fe843248750d568ca64f5fe": {
          "model_module": "@jupyter-widgets/base",
          "model_module_version": "1.2.0",
          "model_name": "LayoutModel",
          "state": {
            "_model_module": "@jupyter-widgets/base",
            "_model_module_version": "1.2.0",
            "_model_name": "LayoutModel",
            "_view_count": null,
            "_view_module": "@jupyter-widgets/base",
            "_view_module_version": "1.2.0",
            "_view_name": "LayoutView",
            "align_content": null,
            "align_items": null,
            "align_self": null,
            "border": null,
            "bottom": null,
            "display": null,
            "flex": null,
            "flex_flow": null,
            "grid_area": null,
            "grid_auto_columns": null,
            "grid_auto_flow": null,
            "grid_auto_rows": null,
            "grid_column": null,
            "grid_gap": null,
            "grid_row": null,
            "grid_template_areas": null,
            "grid_template_columns": null,
            "grid_template_rows": null,
            "height": null,
            "justify_content": null,
            "justify_items": null,
            "left": null,
            "margin": null,
            "max_height": null,
            "max_width": null,
            "min_height": null,
            "min_width": null,
            "object_fit": null,
            "object_position": null,
            "order": null,
            "overflow": null,
            "overflow_x": null,
            "overflow_y": null,
            "padding": null,
            "right": null,
            "top": null,
            "visibility": null,
            "width": null
          }
        },
        "18e41df4911647b5b4a922d524c08810": {
          "model_module": "@jupyter-widgets/base",
          "model_module_version": "1.2.0",
          "model_name": "LayoutModel",
          "state": {
            "_model_module": "@jupyter-widgets/base",
            "_model_module_version": "1.2.0",
            "_model_name": "LayoutModel",
            "_view_count": null,
            "_view_module": "@jupyter-widgets/base",
            "_view_module_version": "1.2.0",
            "_view_name": "LayoutView",
            "align_content": null,
            "align_items": null,
            "align_self": null,
            "border": null,
            "bottom": null,
            "display": null,
            "flex": null,
            "flex_flow": null,
            "grid_area": null,
            "grid_auto_columns": null,
            "grid_auto_flow": null,
            "grid_auto_rows": null,
            "grid_column": null,
            "grid_gap": null,
            "grid_row": null,
            "grid_template_areas": null,
            "grid_template_columns": null,
            "grid_template_rows": null,
            "height": null,
            "justify_content": null,
            "justify_items": null,
            "left": null,
            "margin": null,
            "max_height": null,
            "max_width": null,
            "min_height": null,
            "min_width": null,
            "object_fit": null,
            "object_position": null,
            "order": null,
            "overflow": null,
            "overflow_x": null,
            "overflow_y": null,
            "padding": null,
            "right": null,
            "top": null,
            "visibility": null,
            "width": null
          }
        },
        "19bd53519de64da0ab2be4ea4a24b1a9": {
          "model_module": "@jupyter-widgets/base",
          "model_module_version": "1.2.0",
          "model_name": "LayoutModel",
          "state": {
            "_model_module": "@jupyter-widgets/base",
            "_model_module_version": "1.2.0",
            "_model_name": "LayoutModel",
            "_view_count": null,
            "_view_module": "@jupyter-widgets/base",
            "_view_module_version": "1.2.0",
            "_view_name": "LayoutView",
            "align_content": null,
            "align_items": null,
            "align_self": null,
            "border": null,
            "bottom": null,
            "display": null,
            "flex": null,
            "flex_flow": null,
            "grid_area": null,
            "grid_auto_columns": null,
            "grid_auto_flow": null,
            "grid_auto_rows": null,
            "grid_column": null,
            "grid_gap": null,
            "grid_row": null,
            "grid_template_areas": null,
            "grid_template_columns": null,
            "grid_template_rows": null,
            "height": null,
            "justify_content": null,
            "justify_items": null,
            "left": null,
            "margin": null,
            "max_height": null,
            "max_width": null,
            "min_height": null,
            "min_width": null,
            "object_fit": null,
            "object_position": null,
            "order": null,
            "overflow": null,
            "overflow_x": null,
            "overflow_y": null,
            "padding": null,
            "right": null,
            "top": null,
            "visibility": null,
            "width": null
          }
        },
        "1f10cc758ff1429a94bd31df55821d7a": {
          "model_module": "@jupyter-widgets/controls",
          "model_module_version": "1.5.0",
          "model_name": "HTMLModel",
          "state": {
            "_dom_classes": [],
            "_model_module": "@jupyter-widgets/controls",
            "_model_module_version": "1.5.0",
            "_model_name": "HTMLModel",
            "_view_count": null,
            "_view_module": "@jupyter-widgets/controls",
            "_view_module_version": "1.5.0",
            "_view_name": "HTMLView",
            "description": "",
            "description_tooltip": null,
            "layout": "IPY_MODEL_18e41df4911647b5b4a922d524c08810",
            "placeholder": "​",
            "style": "IPY_MODEL_2cbdf8c09c5443928ff5a873cc62b120",
            "value": "Downloading: 100%"
          }
        },
        "266c9001579d4be49c8f4fc0919e81c0": {
          "model_module": "@jupyter-widgets/controls",
          "model_module_version": "1.5.0",
          "model_name": "HTMLModel",
          "state": {
            "_dom_classes": [],
            "_model_module": "@jupyter-widgets/controls",
            "_model_module_version": "1.5.0",
            "_model_name": "HTMLModel",
            "_view_count": null,
            "_view_module": "@jupyter-widgets/controls",
            "_view_module_version": "1.5.0",
            "_view_name": "HTMLView",
            "description": "",
            "description_tooltip": null,
            "layout": "IPY_MODEL_302fee00b1fc4155b361bf5bc2b4ba36",
            "placeholder": "​",
            "style": "IPY_MODEL_cea7cb8cfb3642e5a7068054d7d33e53",
            "value": " 1.36k/1.36k [00:00&lt;00:00, 49.8kB/s]"
          }
        },
        "297ee6cf4d7847d993050f357c62cb78": {
          "model_module": "@jupyter-widgets/controls",
          "model_module_version": "1.5.0",
          "model_name": "PasswordModel",
          "state": {
            "_dom_classes": [],
            "_model_module": "@jupyter-widgets/controls",
            "_model_module_version": "1.5.0",
            "_model_name": "PasswordModel",
            "_view_count": null,
            "_view_module": "@jupyter-widgets/controls",
            "_view_module_version": "1.5.0",
            "_view_name": "PasswordView",
            "continuous_update": true,
            "description": "Token:",
            "description_tooltip": null,
            "disabled": false,
            "layout": "IPY_MODEL_b9a39cd48b7640a9aecc650865a63092",
            "placeholder": "​",
            "style": "IPY_MODEL_589661005ead4ab0974440318999b3f9",
            "value": ""
          }
        },
        "2a6374c79dbb47cdafd885417558e1d4": {
          "model_module": "@jupyter-widgets/base",
          "model_module_version": "1.2.0",
          "model_name": "LayoutModel",
          "state": {
            "_model_module": "@jupyter-widgets/base",
            "_model_module_version": "1.2.0",
            "_model_name": "LayoutModel",
            "_view_count": null,
            "_view_module": "@jupyter-widgets/base",
            "_view_module_version": "1.2.0",
            "_view_name": "LayoutView",
            "align_content": null,
            "align_items": null,
            "align_self": null,
            "border": null,
            "bottom": null,
            "display": null,
            "flex": null,
            "flex_flow": null,
            "grid_area": null,
            "grid_auto_columns": null,
            "grid_auto_flow": null,
            "grid_auto_rows": null,
            "grid_column": null,
            "grid_gap": null,
            "grid_row": null,
            "grid_template_areas": null,
            "grid_template_columns": null,
            "grid_template_rows": null,
            "height": null,
            "justify_content": null,
            "justify_items": null,
            "left": null,
            "margin": null,
            "max_height": null,
            "max_width": null,
            "min_height": null,
            "min_width": null,
            "object_fit": null,
            "object_position": null,
            "order": null,
            "overflow": null,
            "overflow_x": null,
            "overflow_y": null,
            "padding": null,
            "right": null,
            "top": null,
            "visibility": null,
            "width": null
          }
        },
        "2cbdf8c09c5443928ff5a873cc62b120": {
          "model_module": "@jupyter-widgets/controls",
          "model_module_version": "1.5.0",
          "model_name": "DescriptionStyleModel",
          "state": {
            "_model_module": "@jupyter-widgets/controls",
            "_model_module_version": "1.5.0",
            "_model_name": "DescriptionStyleModel",
            "_view_count": null,
            "_view_module": "@jupyter-widgets/base",
            "_view_module_version": "1.2.0",
            "_view_name": "StyleView",
            "description_width": ""
          }
        },
        "2ccf9402077a4f03abff5473cc6cd457": {
          "model_module": "@jupyter-widgets/controls",
          "model_module_version": "1.5.0",
          "model_name": "LabelModel",
          "state": {
            "_dom_classes": [],
            "_model_module": "@jupyter-widgets/controls",
            "_model_module_version": "1.5.0",
            "_model_name": "LabelModel",
            "_view_count": null,
            "_view_module": "@jupyter-widgets/controls",
            "_view_module_version": "1.5.0",
            "_view_name": "LabelView",
            "description": "",
            "description_tooltip": null,
            "layout": "IPY_MODEL_19bd53519de64da0ab2be4ea4a24b1a9",
            "placeholder": "​",
            "style": "IPY_MODEL_99f0e69e8a1c4fa49f87d38cc1fd8206",
            "value": "Login successful"
          }
        },
        "302fee00b1fc4155b361bf5bc2b4ba36": {
          "model_module": "@jupyter-widgets/base",
          "model_module_version": "1.2.0",
          "model_name": "LayoutModel",
          "state": {
            "_model_module": "@jupyter-widgets/base",
            "_model_module_version": "1.2.0",
            "_model_name": "LayoutModel",
            "_view_count": null,
            "_view_module": "@jupyter-widgets/base",
            "_view_module_version": "1.2.0",
            "_view_name": "LayoutView",
            "align_content": null,
            "align_items": null,
            "align_self": null,
            "border": null,
            "bottom": null,
            "display": null,
            "flex": null,
            "flex_flow": null,
            "grid_area": null,
            "grid_auto_columns": null,
            "grid_auto_flow": null,
            "grid_auto_rows": null,
            "grid_column": null,
            "grid_gap": null,
            "grid_row": null,
            "grid_template_areas": null,
            "grid_template_columns": null,
            "grid_template_rows": null,
            "height": null,
            "justify_content": null,
            "justify_items": null,
            "left": null,
            "margin": null,
            "max_height": null,
            "max_width": null,
            "min_height": null,
            "min_width": null,
            "object_fit": null,
            "object_position": null,
            "order": null,
            "overflow": null,
            "overflow_x": null,
            "overflow_y": null,
            "padding": null,
            "right": null,
            "top": null,
            "visibility": null,
            "width": null
          }
        },
        "3682a808df324af9a89d325210376423": {
          "model_module": "@jupyter-widgets/controls",
          "model_module_version": "1.5.0",
          "model_name": "LabelModel",
          "state": {
            "_dom_classes": [],
            "_model_module": "@jupyter-widgets/controls",
            "_model_module_version": "1.5.0",
            "_model_name": "LabelModel",
            "_view_count": null,
            "_view_module": "@jupyter-widgets/controls",
            "_view_module_version": "1.5.0",
            "_view_name": "LabelView",
            "description": "",
            "description_tooltip": null,
            "layout": "IPY_MODEL_636feffb766541f499fd5e27cae195be",
            "placeholder": "​",
            "style": "IPY_MODEL_f33ccdfab0534d99b84af5b545dc8ebc",
            "value": "Connecting..."
          }
        },
        "41c8b96564c54b3d9cbad5fca2ca8bde": {
          "model_module": "@jupyter-widgets/controls",
          "model_module_version": "1.5.0",
          "model_name": "DescriptionStyleModel",
          "state": {
            "_model_module": "@jupyter-widgets/controls",
            "_model_module_version": "1.5.0",
            "_model_name": "DescriptionStyleModel",
            "_view_count": null,
            "_view_module": "@jupyter-widgets/base",
            "_view_module_version": "1.2.0",
            "_view_name": "StyleView",
            "description_width": ""
          }
        },
        "4327880e410e45f9af0b2c58abf8dec3": {
          "model_module": "@jupyter-widgets/base",
          "model_module_version": "1.2.0",
          "model_name": "LayoutModel",
          "state": {
            "_model_module": "@jupyter-widgets/base",
            "_model_module_version": "1.2.0",
            "_model_name": "LayoutModel",
            "_view_count": null,
            "_view_module": "@jupyter-widgets/base",
            "_view_module_version": "1.2.0",
            "_view_name": "LayoutView",
            "align_content": null,
            "align_items": "center",
            "align_self": null,
            "border": null,
            "bottom": null,
            "display": "flex",
            "flex": null,
            "flex_flow": "column",
            "grid_area": null,
            "grid_auto_columns": null,
            "grid_auto_flow": null,
            "grid_auto_rows": null,
            "grid_column": null,
            "grid_gap": null,
            "grid_row": null,
            "grid_template_areas": null,
            "grid_template_columns": null,
            "grid_template_rows": null,
            "height": null,
            "justify_content": null,
            "justify_items": null,
            "left": null,
            "margin": null,
            "max_height": null,
            "max_width": null,
            "min_height": null,
            "min_width": null,
            "object_fit": null,
            "object_position": null,
            "order": null,
            "overflow": null,
            "overflow_x": null,
            "overflow_y": null,
            "padding": null,
            "right": null,
            "top": null,
            "visibility": null,
            "width": "50%"
          }
        },
        "43dd7282ebc54b40ba94c56ddbeacd90": {
          "model_module": "@jupyter-widgets/base",
          "model_module_version": "1.2.0",
          "model_name": "LayoutModel",
          "state": {
            "_model_module": "@jupyter-widgets/base",
            "_model_module_version": "1.2.0",
            "_model_name": "LayoutModel",
            "_view_count": null,
            "_view_module": "@jupyter-widgets/base",
            "_view_module_version": "1.2.0",
            "_view_name": "LayoutView",
            "align_content": null,
            "align_items": null,
            "align_self": null,
            "border": null,
            "bottom": null,
            "display": null,
            "flex": null,
            "flex_flow": null,
            "grid_area": null,
            "grid_auto_columns": null,
            "grid_auto_flow": null,
            "grid_auto_rows": null,
            "grid_column": null,
            "grid_gap": null,
            "grid_row": null,
            "grid_template_areas": null,
            "grid_template_columns": null,
            "grid_template_rows": null,
            "height": null,
            "justify_content": null,
            "justify_items": null,
            "left": null,
            "margin": null,
            "max_height": null,
            "max_width": null,
            "min_height": null,
            "min_width": null,
            "object_fit": null,
            "object_position": null,
            "order": null,
            "overflow": null,
            "overflow_x": null,
            "overflow_y": null,
            "padding": null,
            "right": null,
            "top": null,
            "visibility": null,
            "width": null
          }
        },
        "474b8f60d6bf4f6d9f0f9837d8096f64": {
          "model_module": "@jupyter-widgets/controls",
          "model_module_version": "1.5.0",
          "model_name": "HTMLModel",
          "state": {
            "_dom_classes": [],
            "_model_module": "@jupyter-widgets/controls",
            "_model_module_version": "1.5.0",
            "_model_name": "HTMLModel",
            "_view_count": null,
            "_view_module": "@jupyter-widgets/controls",
            "_view_module_version": "1.5.0",
            "_view_name": "HTMLView",
            "description": "",
            "description_tooltip": null,
            "layout": "IPY_MODEL_e4920d86712b49128565f8cdcaced690",
            "placeholder": "​",
            "style": "IPY_MODEL_59f3a945d1334d0e8fb786a274cbb73a",
            "value": "Downloading: 100%"
          }
        },
        "4b48e489a03744789a47bf7e8410d259": {
          "model_module": "@jupyter-widgets/base",
          "model_module_version": "1.2.0",
          "model_name": "LayoutModel",
          "state": {
            "_model_module": "@jupyter-widgets/base",
            "_model_module_version": "1.2.0",
            "_model_name": "LayoutModel",
            "_view_count": null,
            "_view_module": "@jupyter-widgets/base",
            "_view_module_version": "1.2.0",
            "_view_name": "LayoutView",
            "align_content": null,
            "align_items": null,
            "align_self": null,
            "border": null,
            "bottom": null,
            "display": null,
            "flex": null,
            "flex_flow": null,
            "grid_area": null,
            "grid_auto_columns": null,
            "grid_auto_flow": null,
            "grid_auto_rows": null,
            "grid_column": null,
            "grid_gap": null,
            "grid_row": null,
            "grid_template_areas": null,
            "grid_template_columns": null,
            "grid_template_rows": null,
            "height": null,
            "justify_content": null,
            "justify_items": null,
            "left": null,
            "margin": null,
            "max_height": null,
            "max_width": null,
            "min_height": null,
            "min_width": null,
            "object_fit": null,
            "object_position": null,
            "order": null,
            "overflow": null,
            "overflow_x": null,
            "overflow_y": null,
            "padding": null,
            "right": null,
            "top": null,
            "visibility": null,
            "width": null
          }
        },
        "4c1b50c79c50425f9cbac9f1fd62c1b8": {
          "model_module": "@jupyter-widgets/base",
          "model_module_version": "1.2.0",
          "model_name": "LayoutModel",
          "state": {
            "_model_module": "@jupyter-widgets/base",
            "_model_module_version": "1.2.0",
            "_model_name": "LayoutModel",
            "_view_count": null,
            "_view_module": "@jupyter-widgets/base",
            "_view_module_version": "1.2.0",
            "_view_name": "LayoutView",
            "align_content": null,
            "align_items": null,
            "align_self": null,
            "border": null,
            "bottom": null,
            "display": null,
            "flex": null,
            "flex_flow": null,
            "grid_area": null,
            "grid_auto_columns": null,
            "grid_auto_flow": null,
            "grid_auto_rows": null,
            "grid_column": null,
            "grid_gap": null,
            "grid_row": null,
            "grid_template_areas": null,
            "grid_template_columns": null,
            "grid_template_rows": null,
            "height": null,
            "justify_content": null,
            "justify_items": null,
            "left": null,
            "margin": null,
            "max_height": null,
            "max_width": null,
            "min_height": null,
            "min_width": null,
            "object_fit": null,
            "object_position": null,
            "order": null,
            "overflow": null,
            "overflow_x": null,
            "overflow_y": null,
            "padding": null,
            "right": null,
            "top": null,
            "visibility": null,
            "width": null
          }
        },
        "4d6d1c6fb8834762998d80b1f24cf285": {
          "model_module": "@jupyter-widgets/controls",
          "model_module_version": "1.5.0",
          "model_name": "HTMLModel",
          "state": {
            "_dom_classes": [],
            "_model_module": "@jupyter-widgets/controls",
            "_model_module_version": "1.5.0",
            "_model_name": "HTMLModel",
            "_view_count": null,
            "_view_module": "@jupyter-widgets/controls",
            "_view_module_version": "1.5.0",
            "_view_name": "HTMLView",
            "description": "",
            "description_tooltip": null,
            "layout": "IPY_MODEL_c07708b9c3d54965a7cda7fb0bc7ed35",
            "placeholder": "​",
            "style": "IPY_MODEL_b154cf13e16549e9ab381d6200d18555",
            "value": " 446k/446k [00:00&lt;00:00, 4.24MB/s]"
          }
        },
        "500259aa1b874dc49974a91affe2b559": {
          "model_module": "@jupyter-widgets/base",
          "model_module_version": "1.2.0",
          "model_name": "LayoutModel",
          "state": {
            "_model_module": "@jupyter-widgets/base",
            "_model_module_version": "1.2.0",
            "_model_name": "LayoutModel",
            "_view_count": null,
            "_view_module": "@jupyter-widgets/base",
            "_view_module_version": "1.2.0",
            "_view_name": "LayoutView",
            "align_content": null,
            "align_items": null,
            "align_self": null,
            "border": null,
            "bottom": null,
            "display": null,
            "flex": null,
            "flex_flow": null,
            "grid_area": null,
            "grid_auto_columns": null,
            "grid_auto_flow": null,
            "grid_auto_rows": null,
            "grid_column": null,
            "grid_gap": null,
            "grid_row": null,
            "grid_template_areas": null,
            "grid_template_columns": null,
            "grid_template_rows": null,
            "height": null,
            "justify_content": null,
            "justify_items": null,
            "left": null,
            "margin": null,
            "max_height": null,
            "max_width": null,
            "min_height": null,
            "min_width": null,
            "object_fit": null,
            "object_position": null,
            "order": null,
            "overflow": null,
            "overflow_x": null,
            "overflow_y": null,
            "padding": null,
            "right": null,
            "top": null,
            "visibility": null,
            "width": null
          }
        },
        "5391fa1776a74e969825fd2a76515083": {
          "model_module": "@jupyter-widgets/controls",
          "model_module_version": "1.5.0",
          "model_name": "ProgressStyleModel",
          "state": {
            "_model_module": "@jupyter-widgets/controls",
            "_model_module_version": "1.5.0",
            "_model_name": "ProgressStyleModel",
            "_view_count": null,
            "_view_module": "@jupyter-widgets/base",
            "_view_module_version": "1.2.0",
            "_view_name": "StyleView",
            "bar_color": null,
            "description_width": ""
          }
        },
        "589661005ead4ab0974440318999b3f9": {
          "model_module": "@jupyter-widgets/controls",
          "model_module_version": "1.5.0",
          "model_name": "DescriptionStyleModel",
          "state": {
            "_model_module": "@jupyter-widgets/controls",
            "_model_module_version": "1.5.0",
            "_model_name": "DescriptionStyleModel",
            "_view_count": null,
            "_view_module": "@jupyter-widgets/base",
            "_view_module_version": "1.2.0",
            "_view_name": "StyleView",
            "description_width": ""
          }
        },
        "59f3a945d1334d0e8fb786a274cbb73a": {
          "model_module": "@jupyter-widgets/controls",
          "model_module_version": "1.5.0",
          "model_name": "DescriptionStyleModel",
          "state": {
            "_model_module": "@jupyter-widgets/controls",
            "_model_module_version": "1.5.0",
            "_model_name": "DescriptionStyleModel",
            "_view_count": null,
            "_view_module": "@jupyter-widgets/base",
            "_view_module_version": "1.2.0",
            "_view_name": "StyleView",
            "description_width": ""
          }
        },
        "5ccdf351a92243d09aad87925169d27e": {
          "model_module": "@jupyter-widgets/controls",
          "model_module_version": "1.5.0",
          "model_name": "LabelModel",
          "state": {
            "_dom_classes": [],
            "_model_module": "@jupyter-widgets/controls",
            "_model_module_version": "1.5.0",
            "_model_name": "LabelModel",
            "_view_count": null,
            "_view_module": "@jupyter-widgets/controls",
            "_view_module_version": "1.5.0",
            "_view_name": "LabelView",
            "description": "",
            "description_tooltip": null,
            "layout": "IPY_MODEL_041021c90cfe4a45a0898276e19080d8",
            "placeholder": "​",
            "style": "IPY_MODEL_80d8df906cbf4fd7888f410c49e4eb3b",
            "value": "Token is valid (permission: read)."
          }
        },
        "5d0836411f614a4d85183a87c74da938": {
          "model_module": "@jupyter-widgets/controls",
          "model_module_version": "1.5.0",
          "model_name": "ButtonStyleModel",
          "state": {
            "_model_module": "@jupyter-widgets/controls",
            "_model_module_version": "1.5.0",
            "_model_name": "ButtonStyleModel",
            "_view_count": null,
            "_view_module": "@jupyter-widgets/base",
            "_view_module_version": "1.2.0",
            "_view_name": "StyleView",
            "button_color": null,
            "font_weight": ""
          }
        },
        "60a7fb7a070a4f619fd805c35d1bfd1c": {
          "model_module": "@jupyter-widgets/controls",
          "model_module_version": "1.5.0",
          "model_name": "FloatProgressModel",
          "state": {
            "_dom_classes": [],
            "_model_module": "@jupyter-widgets/controls",
            "_model_module_version": "1.5.0",
            "_model_name": "FloatProgressModel",
            "_view_count": null,
            "_view_module": "@jupyter-widgets/controls",
            "_view_module_version": "1.5.0",
            "_view_name": "ProgressView",
            "bar_style": "success",
            "description": "",
            "description_tooltip": null,
            "layout": "IPY_MODEL_d67ca07dc3464b6394f70cc5bc102d23",
            "max": 898823,
            "min": 0,
            "orientation": "horizontal",
            "style": "IPY_MODEL_5391fa1776a74e969825fd2a76515083",
            "value": 898823
          }
        },
        "636feffb766541f499fd5e27cae195be": {
          "model_module": "@jupyter-widgets/base",
          "model_module_version": "1.2.0",
          "model_name": "LayoutModel",
          "state": {
            "_model_module": "@jupyter-widgets/base",
            "_model_module_version": "1.2.0",
            "_model_name": "LayoutModel",
            "_view_count": null,
            "_view_module": "@jupyter-widgets/base",
            "_view_module_version": "1.2.0",
            "_view_name": "LayoutView",
            "align_content": null,
            "align_items": null,
            "align_self": null,
            "border": null,
            "bottom": null,
            "display": null,
            "flex": null,
            "flex_flow": null,
            "grid_area": null,
            "grid_auto_columns": null,
            "grid_auto_flow": null,
            "grid_auto_rows": null,
            "grid_column": null,
            "grid_gap": null,
            "grid_row": null,
            "grid_template_areas": null,
            "grid_template_columns": null,
            "grid_template_rows": null,
            "height": null,
            "justify_content": null,
            "justify_items": null,
            "left": null,
            "margin": null,
            "max_height": null,
            "max_width": null,
            "min_height": null,
            "min_width": null,
            "object_fit": null,
            "object_position": null,
            "order": null,
            "overflow": null,
            "overflow_x": null,
            "overflow_y": null,
            "padding": null,
            "right": null,
            "top": null,
            "visibility": null,
            "width": null
          }
        },
        "6d880e0320bc4c6490e415668ed40903": {
          "model_module": "@jupyter-widgets/controls",
          "model_module_version": "1.5.0",
          "model_name": "HBoxModel",
          "state": {
            "_dom_classes": [],
            "_model_module": "@jupyter-widgets/controls",
            "_model_module_version": "1.5.0",
            "_model_name": "HBoxModel",
            "_view_count": null,
            "_view_module": "@jupyter-widgets/controls",
            "_view_module_version": "1.5.0",
            "_view_name": "HBoxView",
            "box_style": "",
            "children": [
              "IPY_MODEL_474b8f60d6bf4f6d9f0f9837d8096f64",
              "IPY_MODEL_76b3d898eea64b2da5d91046c974e5b9",
              "IPY_MODEL_4d6d1c6fb8834762998d80b1f24cf285"
            ],
            "layout": "IPY_MODEL_0a25be7005c34197a28e46ba9af872e0"
          }
        },
        "7347b580f4804a0dab63a5c42fac7c11": {
          "model_module": "@jupyter-widgets/base",
          "model_module_version": "1.2.0",
          "model_name": "LayoutModel",
          "state": {
            "_model_module": "@jupyter-widgets/base",
            "_model_module_version": "1.2.0",
            "_model_name": "LayoutModel",
            "_view_count": null,
            "_view_module": "@jupyter-widgets/base",
            "_view_module_version": "1.2.0",
            "_view_name": "LayoutView",
            "align_content": null,
            "align_items": null,
            "align_self": null,
            "border": null,
            "bottom": null,
            "display": null,
            "flex": null,
            "flex_flow": null,
            "grid_area": null,
            "grid_auto_columns": null,
            "grid_auto_flow": null,
            "grid_auto_rows": null,
            "grid_column": null,
            "grid_gap": null,
            "grid_row": null,
            "grid_template_areas": null,
            "grid_template_columns": null,
            "grid_template_rows": null,
            "height": null,
            "justify_content": null,
            "justify_items": null,
            "left": null,
            "margin": null,
            "max_height": null,
            "max_width": null,
            "min_height": null,
            "min_width": null,
            "object_fit": null,
            "object_position": null,
            "order": null,
            "overflow": null,
            "overflow_x": null,
            "overflow_y": null,
            "padding": null,
            "right": null,
            "top": null,
            "visibility": null,
            "width": null
          }
        },
        "739f35fe18b147989316968fd240927a": {
          "model_module": "@jupyter-widgets/base",
          "model_module_version": "1.2.0",
          "model_name": "LayoutModel",
          "state": {
            "_model_module": "@jupyter-widgets/base",
            "_model_module_version": "1.2.0",
            "_model_name": "LayoutModel",
            "_view_count": null,
            "_view_module": "@jupyter-widgets/base",
            "_view_module_version": "1.2.0",
            "_view_name": "LayoutView",
            "align_content": null,
            "align_items": null,
            "align_self": null,
            "border": null,
            "bottom": null,
            "display": null,
            "flex": null,
            "flex_flow": null,
            "grid_area": null,
            "grid_auto_columns": null,
            "grid_auto_flow": null,
            "grid_auto_rows": null,
            "grid_column": null,
            "grid_gap": null,
            "grid_row": null,
            "grid_template_areas": null,
            "grid_template_columns": null,
            "grid_template_rows": null,
            "height": null,
            "justify_content": null,
            "justify_items": null,
            "left": null,
            "margin": null,
            "max_height": null,
            "max_width": null,
            "min_height": null,
            "min_width": null,
            "object_fit": null,
            "object_position": null,
            "order": null,
            "overflow": null,
            "overflow_x": null,
            "overflow_y": null,
            "padding": null,
            "right": null,
            "top": null,
            "visibility": null,
            "width": null
          }
        },
        "76b3d898eea64b2da5d91046c974e5b9": {
          "model_module": "@jupyter-widgets/controls",
          "model_module_version": "1.5.0",
          "model_name": "FloatProgressModel",
          "state": {
            "_dom_classes": [],
            "_model_module": "@jupyter-widgets/controls",
            "_model_module_version": "1.5.0",
            "_model_name": "FloatProgressModel",
            "_view_count": null,
            "_view_module": "@jupyter-widgets/controls",
            "_view_module_version": "1.5.0",
            "_view_name": "ProgressView",
            "bar_style": "success",
            "description": "",
            "description_tooltip": null,
            "layout": "IPY_MODEL_7347b580f4804a0dab63a5c42fac7c11",
            "max": 456318,
            "min": 0,
            "orientation": "horizontal",
            "style": "IPY_MODEL_d23f2dfd324a4c6da7345a76e04a65ac",
            "value": 456318
          }
        },
        "7d69b2f3404944eeb05e188d52b1caf9": {
          "model_module": "@jupyter-widgets/controls",
          "model_module_version": "1.5.0",
          "model_name": "ProgressStyleModel",
          "state": {
            "_model_module": "@jupyter-widgets/controls",
            "_model_module_version": "1.5.0",
            "_model_name": "ProgressStyleModel",
            "_view_count": null,
            "_view_module": "@jupyter-widgets/base",
            "_view_module_version": "1.2.0",
            "_view_name": "StyleView",
            "bar_color": null,
            "description_width": ""
          }
        },
        "7f58c7c01ba94347aef866a5b940b75f": {
          "model_module": "@jupyter-widgets/controls",
          "model_module_version": "1.5.0",
          "model_name": "HTMLModel",
          "state": {
            "_dom_classes": [],
            "_model_module": "@jupyter-widgets/controls",
            "_model_module_version": "1.5.0",
            "_model_name": "HTMLModel",
            "_view_count": null,
            "_view_module": "@jupyter-widgets/controls",
            "_view_module_version": "1.5.0",
            "_view_name": "HTMLView",
            "description": "",
            "description_tooltip": null,
            "layout": "IPY_MODEL_afe7fc1377204f0a96888b7f29ea637a",
            "placeholder": "​",
            "style": "IPY_MODEL_858d25dd274b4dd1a79e1500f6082cb2",
            "value": "\n<b>Pro Tip:</b> If you don't already have one, you can create a dedicated\n'notebooks' token with 'write' access, that you can then easily reuse for all\nnotebooks. </center>"
          }
        },
        "7f8f0e6020064980a4b76f355e065cb0": {
          "model_module": "@jupyter-widgets/base",
          "model_module_version": "1.2.0",
          "model_name": "LayoutModel",
          "state": {
            "_model_module": "@jupyter-widgets/base",
            "_model_module_version": "1.2.0",
            "_model_name": "LayoutModel",
            "_view_count": null,
            "_view_module": "@jupyter-widgets/base",
            "_view_module_version": "1.2.0",
            "_view_name": "LayoutView",
            "align_content": null,
            "align_items": null,
            "align_self": null,
            "border": null,
            "bottom": null,
            "display": null,
            "flex": null,
            "flex_flow": null,
            "grid_area": null,
            "grid_auto_columns": null,
            "grid_auto_flow": null,
            "grid_auto_rows": null,
            "grid_column": null,
            "grid_gap": null,
            "grid_row": null,
            "grid_template_areas": null,
            "grid_template_columns": null,
            "grid_template_rows": null,
            "height": null,
            "justify_content": null,
            "justify_items": null,
            "left": null,
            "margin": null,
            "max_height": null,
            "max_width": null,
            "min_height": null,
            "min_width": null,
            "object_fit": null,
            "object_position": null,
            "order": null,
            "overflow": null,
            "overflow_x": null,
            "overflow_y": null,
            "padding": null,
            "right": null,
            "top": null,
            "visibility": null,
            "width": null
          }
        },
        "80d8df906cbf4fd7888f410c49e4eb3b": {
          "model_module": "@jupyter-widgets/controls",
          "model_module_version": "1.5.0",
          "model_name": "DescriptionStyleModel",
          "state": {
            "_model_module": "@jupyter-widgets/controls",
            "_model_module_version": "1.5.0",
            "_model_name": "DescriptionStyleModel",
            "_view_count": null,
            "_view_module": "@jupyter-widgets/base",
            "_view_module_version": "1.2.0",
            "_view_name": "StyleView",
            "description_width": ""
          }
        },
        "858d25dd274b4dd1a79e1500f6082cb2": {
          "model_module": "@jupyter-widgets/controls",
          "model_module_version": "1.5.0",
          "model_name": "DescriptionStyleModel",
          "state": {
            "_model_module": "@jupyter-widgets/controls",
            "_model_module_version": "1.5.0",
            "_model_name": "DescriptionStyleModel",
            "_view_count": null,
            "_view_module": "@jupyter-widgets/base",
            "_view_module_version": "1.2.0",
            "_view_name": "StyleView",
            "description_width": ""
          }
        },
        "875b4b87c0ac4b77822c8efede74f0f3": {
          "model_module": "@jupyter-widgets/controls",
          "model_module_version": "1.5.0",
          "model_name": "DescriptionStyleModel",
          "state": {
            "_model_module": "@jupyter-widgets/controls",
            "_model_module_version": "1.5.0",
            "_model_name": "DescriptionStyleModel",
            "_view_count": null,
            "_view_module": "@jupyter-widgets/base",
            "_view_module_version": "1.2.0",
            "_view_name": "StyleView",
            "description_width": ""
          }
        },
        "8c215d94e55c43e59e3a58f99e40faa0": {
          "model_module": "@jupyter-widgets/controls",
          "model_module_version": "1.5.0",
          "model_name": "ButtonModel",
          "state": {
            "_dom_classes": [],
            "_model_module": "@jupyter-widgets/controls",
            "_model_module_version": "1.5.0",
            "_model_name": "ButtonModel",
            "_view_count": null,
            "_view_module": "@jupyter-widgets/controls",
            "_view_module_version": "1.5.0",
            "_view_name": "ButtonView",
            "button_style": "",
            "description": "Login",
            "disabled": false,
            "icon": "",
            "layout": "IPY_MODEL_cfb0422a56b540bba52f1a7e6dcbf568",
            "style": "IPY_MODEL_5d0836411f614a4d85183a87c74da938",
            "tooltip": ""
          }
        },
        "99f0e69e8a1c4fa49f87d38cc1fd8206": {
          "model_module": "@jupyter-widgets/controls",
          "model_module_version": "1.5.0",
          "model_name": "DescriptionStyleModel",
          "state": {
            "_model_module": "@jupyter-widgets/controls",
            "_model_module_version": "1.5.0",
            "_model_name": "DescriptionStyleModel",
            "_view_count": null,
            "_view_module": "@jupyter-widgets/base",
            "_view_module_version": "1.2.0",
            "_view_name": "StyleView",
            "description_width": ""
          }
        },
        "9d55ad673aa7448e9e186f34f772be0e": {
          "model_module": "@jupyter-widgets/controls",
          "model_module_version": "1.5.0",
          "model_name": "HBoxModel",
          "state": {
            "_dom_classes": [],
            "_model_module": "@jupyter-widgets/controls",
            "_model_module_version": "1.5.0",
            "_model_name": "HBoxModel",
            "_view_count": null,
            "_view_module": "@jupyter-widgets/controls",
            "_view_module_version": "1.5.0",
            "_view_name": "HBoxView",
            "box_style": "",
            "children": [
              "IPY_MODEL_0d1e2267e24a446da78fa7bcf39da4b7",
              "IPY_MODEL_04c9bcbb45b5436aa50d6710a836ee8b",
              "IPY_MODEL_266c9001579d4be49c8f4fc0919e81c0"
            ],
            "layout": "IPY_MODEL_739f35fe18b147989316968fd240927a"
          }
        },
        "a0b312a59d1949e29e998149c65a41e6": {
          "model_module": "@jupyter-widgets/controls",
          "model_module_version": "1.5.0",
          "model_name": "HBoxModel",
          "state": {
            "_dom_classes": [],
            "_model_module": "@jupyter-widgets/controls",
            "_model_module_version": "1.5.0",
            "_model_name": "HBoxModel",
            "_view_count": null,
            "_view_module": "@jupyter-widgets/controls",
            "_view_module_version": "1.5.0",
            "_view_name": "HBoxView",
            "box_style": "",
            "children": [
              "IPY_MODEL_1f10cc758ff1429a94bd31df55821d7a",
              "IPY_MODEL_60a7fb7a070a4f619fd805c35d1bfd1c",
              "IPY_MODEL_a3308d2f2e7b49eeb7d67b2d85f8e2c4"
            ],
            "layout": "IPY_MODEL_0843891db27748729c8f0c0be8ad5089"
          }
        },
        "a3308d2f2e7b49eeb7d67b2d85f8e2c4": {
          "model_module": "@jupyter-widgets/controls",
          "model_module_version": "1.5.0",
          "model_name": "HTMLModel",
          "state": {
            "_dom_classes": [],
            "_model_module": "@jupyter-widgets/controls",
            "_model_module_version": "1.5.0",
            "_model_name": "HTMLModel",
            "_view_count": null,
            "_view_module": "@jupyter-widgets/controls",
            "_view_module_version": "1.5.0",
            "_view_name": "HTMLView",
            "description": "",
            "description_tooltip": null,
            "layout": "IPY_MODEL_14ba6c0b7d3c4ed29a3a12adaf3f9630",
            "placeholder": "​",
            "style": "IPY_MODEL_875b4b87c0ac4b77822c8efede74f0f3",
            "value": " 878k/878k [00:00&lt;00:00, 3.33MB/s]"
          }
        },
        "a8e776f836d04ab3b7b91a094dd98d0f": {
          "model_module": "@jupyter-widgets/controls",
          "model_module_version": "1.5.0",
          "model_name": "DescriptionStyleModel",
          "state": {
            "_model_module": "@jupyter-widgets/controls",
            "_model_module_version": "1.5.0",
            "_model_name": "DescriptionStyleModel",
            "_view_count": null,
            "_view_module": "@jupyter-widgets/base",
            "_view_module_version": "1.2.0",
            "_view_name": "StyleView",
            "description_width": ""
          }
        },
        "aae804c7f2214e4ea42daee52868154a": {
          "model_module": "@jupyter-widgets/base",
          "model_module_version": "1.2.0",
          "model_name": "LayoutModel",
          "state": {
            "_model_module": "@jupyter-widgets/base",
            "_model_module_version": "1.2.0",
            "_model_name": "LayoutModel",
            "_view_count": null,
            "_view_module": "@jupyter-widgets/base",
            "_view_module_version": "1.2.0",
            "_view_name": "LayoutView",
            "align_content": null,
            "align_items": null,
            "align_self": null,
            "border": null,
            "bottom": null,
            "display": null,
            "flex": null,
            "flex_flow": null,
            "grid_area": null,
            "grid_auto_columns": null,
            "grid_auto_flow": null,
            "grid_auto_rows": null,
            "grid_column": null,
            "grid_gap": null,
            "grid_row": null,
            "grid_template_areas": null,
            "grid_template_columns": null,
            "grid_template_rows": null,
            "height": null,
            "justify_content": null,
            "justify_items": null,
            "left": null,
            "margin": null,
            "max_height": null,
            "max_width": null,
            "min_height": null,
            "min_width": null,
            "object_fit": null,
            "object_position": null,
            "order": null,
            "overflow": null,
            "overflow_x": null,
            "overflow_y": null,
            "padding": null,
            "right": null,
            "top": null,
            "visibility": null,
            "width": null
          }
        },
        "afe7fc1377204f0a96888b7f29ea637a": {
          "model_module": "@jupyter-widgets/base",
          "model_module_version": "1.2.0",
          "model_name": "LayoutModel",
          "state": {
            "_model_module": "@jupyter-widgets/base",
            "_model_module_version": "1.2.0",
            "_model_name": "LayoutModel",
            "_view_count": null,
            "_view_module": "@jupyter-widgets/base",
            "_view_module_version": "1.2.0",
            "_view_name": "LayoutView",
            "align_content": null,
            "align_items": null,
            "align_self": null,
            "border": null,
            "bottom": null,
            "display": null,
            "flex": null,
            "flex_flow": null,
            "grid_area": null,
            "grid_auto_columns": null,
            "grid_auto_flow": null,
            "grid_auto_rows": null,
            "grid_column": null,
            "grid_gap": null,
            "grid_row": null,
            "grid_template_areas": null,
            "grid_template_columns": null,
            "grid_template_rows": null,
            "height": null,
            "justify_content": null,
            "justify_items": null,
            "left": null,
            "margin": null,
            "max_height": null,
            "max_width": null,
            "min_height": null,
            "min_width": null,
            "object_fit": null,
            "object_position": null,
            "order": null,
            "overflow": null,
            "overflow_x": null,
            "overflow_y": null,
            "padding": null,
            "right": null,
            "top": null,
            "visibility": null,
            "width": null
          }
        },
        "aff6629c291342cc8369aef780cbb594": {
          "model_module": "@jupyter-widgets/controls",
          "model_module_version": "1.5.0",
          "model_name": "CheckboxModel",
          "state": {
            "_dom_classes": [],
            "_model_module": "@jupyter-widgets/controls",
            "_model_module_version": "1.5.0",
            "_model_name": "CheckboxModel",
            "_view_count": null,
            "_view_module": "@jupyter-widgets/controls",
            "_view_module_version": "1.5.0",
            "_view_name": "CheckboxView",
            "description": "Add token as git credential?",
            "description_tooltip": null,
            "disabled": false,
            "indent": true,
            "layout": "IPY_MODEL_2a6374c79dbb47cdafd885417558e1d4",
            "style": "IPY_MODEL_f399edf02fa246c8b75ab5e683cd8ef5",
            "value": true
          }
        },
        "b154cf13e16549e9ab381d6200d18555": {
          "model_module": "@jupyter-widgets/controls",
          "model_module_version": "1.5.0",
          "model_name": "DescriptionStyleModel",
          "state": {
            "_model_module": "@jupyter-widgets/controls",
            "_model_module_version": "1.5.0",
            "_model_name": "DescriptionStyleModel",
            "_view_count": null,
            "_view_module": "@jupyter-widgets/base",
            "_view_module_version": "1.2.0",
            "_view_name": "StyleView",
            "description_width": ""
          }
        },
        "b84e5cd3fa9a46498ba1cf78b668c198": {
          "model_module": "@jupyter-widgets/base",
          "model_module_version": "1.2.0",
          "model_name": "LayoutModel",
          "state": {
            "_model_module": "@jupyter-widgets/base",
            "_model_module_version": "1.2.0",
            "_model_name": "LayoutModel",
            "_view_count": null,
            "_view_module": "@jupyter-widgets/base",
            "_view_module_version": "1.2.0",
            "_view_name": "LayoutView",
            "align_content": null,
            "align_items": null,
            "align_self": null,
            "border": null,
            "bottom": null,
            "display": null,
            "flex": null,
            "flex_flow": null,
            "grid_area": null,
            "grid_auto_columns": null,
            "grid_auto_flow": null,
            "grid_auto_rows": null,
            "grid_column": null,
            "grid_gap": null,
            "grid_row": null,
            "grid_template_areas": null,
            "grid_template_columns": null,
            "grid_template_rows": null,
            "height": null,
            "justify_content": null,
            "justify_items": null,
            "left": null,
            "margin": null,
            "max_height": null,
            "max_width": null,
            "min_height": null,
            "min_width": null,
            "object_fit": null,
            "object_position": null,
            "order": null,
            "overflow": null,
            "overflow_x": null,
            "overflow_y": null,
            "padding": null,
            "right": null,
            "top": null,
            "visibility": null,
            "width": null
          }
        },
        "b8ee940d771c46d2952bfbf1c8a88029": {
          "model_module": "@jupyter-widgets/controls",
          "model_module_version": "1.5.0",
          "model_name": "LabelModel",
          "state": {
            "_dom_classes": [],
            "_model_module": "@jupyter-widgets/controls",
            "_model_module_version": "1.5.0",
            "_model_name": "LabelModel",
            "_view_count": null,
            "_view_module": "@jupyter-widgets/controls",
            "_view_module_version": "1.5.0",
            "_view_name": "LabelView",
            "description": "",
            "description_tooltip": null,
            "layout": "IPY_MODEL_14d3ccba7fe843248750d568ca64f5fe",
            "placeholder": "​",
            "style": "IPY_MODEL_c8e7b58b4b5348d3855c090237060cbe",
            "value": "Your token has been saved in your configured git credential helpers (store)."
          }
        },
        "b9a39cd48b7640a9aecc650865a63092": {
          "model_module": "@jupyter-widgets/base",
          "model_module_version": "1.2.0",
          "model_name": "LayoutModel",
          "state": {
            "_model_module": "@jupyter-widgets/base",
            "_model_module_version": "1.2.0",
            "_model_name": "LayoutModel",
            "_view_count": null,
            "_view_module": "@jupyter-widgets/base",
            "_view_module_version": "1.2.0",
            "_view_name": "LayoutView",
            "align_content": null,
            "align_items": null,
            "align_self": null,
            "border": null,
            "bottom": null,
            "display": null,
            "flex": null,
            "flex_flow": null,
            "grid_area": null,
            "grid_auto_columns": null,
            "grid_auto_flow": null,
            "grid_auto_rows": null,
            "grid_column": null,
            "grid_gap": null,
            "grid_row": null,
            "grid_template_areas": null,
            "grid_template_columns": null,
            "grid_template_rows": null,
            "height": null,
            "justify_content": null,
            "justify_items": null,
            "left": null,
            "margin": null,
            "max_height": null,
            "max_width": null,
            "min_height": null,
            "min_width": null,
            "object_fit": null,
            "object_position": null,
            "order": null,
            "overflow": null,
            "overflow_x": null,
            "overflow_y": null,
            "padding": null,
            "right": null,
            "top": null,
            "visibility": null,
            "width": null
          }
        },
        "c07708b9c3d54965a7cda7fb0bc7ed35": {
          "model_module": "@jupyter-widgets/base",
          "model_module_version": "1.2.0",
          "model_name": "LayoutModel",
          "state": {
            "_model_module": "@jupyter-widgets/base",
            "_model_module_version": "1.2.0",
            "_model_name": "LayoutModel",
            "_view_count": null,
            "_view_module": "@jupyter-widgets/base",
            "_view_module_version": "1.2.0",
            "_view_name": "LayoutView",
            "align_content": null,
            "align_items": null,
            "align_self": null,
            "border": null,
            "bottom": null,
            "display": null,
            "flex": null,
            "flex_flow": null,
            "grid_area": null,
            "grid_auto_columns": null,
            "grid_auto_flow": null,
            "grid_auto_rows": null,
            "grid_column": null,
            "grid_gap": null,
            "grid_row": null,
            "grid_template_areas": null,
            "grid_template_columns": null,
            "grid_template_rows": null,
            "height": null,
            "justify_content": null,
            "justify_items": null,
            "left": null,
            "margin": null,
            "max_height": null,
            "max_width": null,
            "min_height": null,
            "min_width": null,
            "object_fit": null,
            "object_position": null,
            "order": null,
            "overflow": null,
            "overflow_x": null,
            "overflow_y": null,
            "padding": null,
            "right": null,
            "top": null,
            "visibility": null,
            "width": null
          }
        },
        "c8e7b58b4b5348d3855c090237060cbe": {
          "model_module": "@jupyter-widgets/controls",
          "model_module_version": "1.5.0",
          "model_name": "DescriptionStyleModel",
          "state": {
            "_model_module": "@jupyter-widgets/controls",
            "_model_module_version": "1.5.0",
            "_model_name": "DescriptionStyleModel",
            "_view_count": null,
            "_view_module": "@jupyter-widgets/base",
            "_view_module_version": "1.2.0",
            "_view_name": "StyleView",
            "description_width": ""
          }
        },
        "c946ecc2457e4bbca09921e369734d81": {
          "model_module": "@jupyter-widgets/controls",
          "model_module_version": "1.5.0",
          "model_name": "HTMLModel",
          "state": {
            "_dom_classes": [],
            "_model_module": "@jupyter-widgets/controls",
            "_model_module_version": "1.5.0",
            "_model_name": "HTMLModel",
            "_view_count": null,
            "_view_module": "@jupyter-widgets/controls",
            "_view_module_version": "1.5.0",
            "_view_name": "HTMLView",
            "description": "",
            "description_tooltip": null,
            "layout": "IPY_MODEL_4c1b50c79c50425f9cbac9f1fd62c1b8",
            "placeholder": "​",
            "style": "IPY_MODEL_10cd024ffe124aef82cd6162fe1879cf",
            "value": " 419M/419M [00:11&lt;00:00, 56.6MB/s]"
          }
        },
        "cbc2f998c1fd4df480dc3df933622b7c": {
          "model_module": "@jupyter-widgets/controls",
          "model_module_version": "1.5.0",
          "model_name": "ProgressStyleModel",
          "state": {
            "_model_module": "@jupyter-widgets/controls",
            "_model_module_version": "1.5.0",
            "_model_name": "ProgressStyleModel",
            "_view_count": null,
            "_view_module": "@jupyter-widgets/base",
            "_view_module_version": "1.2.0",
            "_view_name": "StyleView",
            "bar_color": null,
            "description_width": ""
          }
        },
        "cea7cb8cfb3642e5a7068054d7d33e53": {
          "model_module": "@jupyter-widgets/controls",
          "model_module_version": "1.5.0",
          "model_name": "DescriptionStyleModel",
          "state": {
            "_model_module": "@jupyter-widgets/controls",
            "_model_module_version": "1.5.0",
            "_model_name": "DescriptionStyleModel",
            "_view_count": null,
            "_view_module": "@jupyter-widgets/base",
            "_view_module_version": "1.2.0",
            "_view_name": "StyleView",
            "description_width": ""
          }
        },
        "cfb0422a56b540bba52f1a7e6dcbf568": {
          "model_module": "@jupyter-widgets/base",
          "model_module_version": "1.2.0",
          "model_name": "LayoutModel",
          "state": {
            "_model_module": "@jupyter-widgets/base",
            "_model_module_version": "1.2.0",
            "_model_name": "LayoutModel",
            "_view_count": null,
            "_view_module": "@jupyter-widgets/base",
            "_view_module_version": "1.2.0",
            "_view_name": "LayoutView",
            "align_content": null,
            "align_items": null,
            "align_self": null,
            "border": null,
            "bottom": null,
            "display": null,
            "flex": null,
            "flex_flow": null,
            "grid_area": null,
            "grid_auto_columns": null,
            "grid_auto_flow": null,
            "grid_auto_rows": null,
            "grid_column": null,
            "grid_gap": null,
            "grid_row": null,
            "grid_template_areas": null,
            "grid_template_columns": null,
            "grid_template_rows": null,
            "height": null,
            "justify_content": null,
            "justify_items": null,
            "left": null,
            "margin": null,
            "max_height": null,
            "max_width": null,
            "min_height": null,
            "min_width": null,
            "object_fit": null,
            "object_position": null,
            "order": null,
            "overflow": null,
            "overflow_x": null,
            "overflow_y": null,
            "padding": null,
            "right": null,
            "top": null,
            "visibility": null,
            "width": null
          }
        },
        "d23f2dfd324a4c6da7345a76e04a65ac": {
          "model_module": "@jupyter-widgets/controls",
          "model_module_version": "1.5.0",
          "model_name": "ProgressStyleModel",
          "state": {
            "_model_module": "@jupyter-widgets/controls",
            "_model_module_version": "1.5.0",
            "_model_name": "ProgressStyleModel",
            "_view_count": null,
            "_view_module": "@jupyter-widgets/base",
            "_view_module_version": "1.2.0",
            "_view_name": "StyleView",
            "bar_color": null,
            "description_width": ""
          }
        },
        "d67ca07dc3464b6394f70cc5bc102d23": {
          "model_module": "@jupyter-widgets/base",
          "model_module_version": "1.2.0",
          "model_name": "LayoutModel",
          "state": {
            "_model_module": "@jupyter-widgets/base",
            "_model_module_version": "1.2.0",
            "_model_name": "LayoutModel",
            "_view_count": null,
            "_view_module": "@jupyter-widgets/base",
            "_view_module_version": "1.2.0",
            "_view_name": "LayoutView",
            "align_content": null,
            "align_items": null,
            "align_self": null,
            "border": null,
            "bottom": null,
            "display": null,
            "flex": null,
            "flex_flow": null,
            "grid_area": null,
            "grid_auto_columns": null,
            "grid_auto_flow": null,
            "grid_auto_rows": null,
            "grid_column": null,
            "grid_gap": null,
            "grid_row": null,
            "grid_template_areas": null,
            "grid_template_columns": null,
            "grid_template_rows": null,
            "height": null,
            "justify_content": null,
            "justify_items": null,
            "left": null,
            "margin": null,
            "max_height": null,
            "max_width": null,
            "min_height": null,
            "min_width": null,
            "object_fit": null,
            "object_position": null,
            "order": null,
            "overflow": null,
            "overflow_x": null,
            "overflow_y": null,
            "padding": null,
            "right": null,
            "top": null,
            "visibility": null,
            "width": null
          }
        },
        "df1d004d82074e8ca7bcb6c7657e9c26": {
          "model_module": "@jupyter-widgets/base",
          "model_module_version": "1.2.0",
          "model_name": "LayoutModel",
          "state": {
            "_model_module": "@jupyter-widgets/base",
            "_model_module_version": "1.2.0",
            "_model_name": "LayoutModel",
            "_view_count": null,
            "_view_module": "@jupyter-widgets/base",
            "_view_module_version": "1.2.0",
            "_view_name": "LayoutView",
            "align_content": null,
            "align_items": null,
            "align_self": null,
            "border": null,
            "bottom": null,
            "display": null,
            "flex": null,
            "flex_flow": null,
            "grid_area": null,
            "grid_auto_columns": null,
            "grid_auto_flow": null,
            "grid_auto_rows": null,
            "grid_column": null,
            "grid_gap": null,
            "grid_row": null,
            "grid_template_areas": null,
            "grid_template_columns": null,
            "grid_template_rows": null,
            "height": null,
            "justify_content": null,
            "justify_items": null,
            "left": null,
            "margin": null,
            "max_height": null,
            "max_width": null,
            "min_height": null,
            "min_width": null,
            "object_fit": null,
            "object_position": null,
            "order": null,
            "overflow": null,
            "overflow_x": null,
            "overflow_y": null,
            "padding": null,
            "right": null,
            "top": null,
            "visibility": null,
            "width": null
          }
        },
        "e0a8c3cdd1c7414eb29e104dca12b1fb": {
          "model_module": "@jupyter-widgets/controls",
          "model_module_version": "1.5.0",
          "model_name": "DescriptionStyleModel",
          "state": {
            "_model_module": "@jupyter-widgets/controls",
            "_model_module_version": "1.5.0",
            "_model_name": "DescriptionStyleModel",
            "_view_count": null,
            "_view_module": "@jupyter-widgets/base",
            "_view_module_version": "1.2.0",
            "_view_name": "StyleView",
            "description_width": ""
          }
        },
        "e4920d86712b49128565f8cdcaced690": {
          "model_module": "@jupyter-widgets/base",
          "model_module_version": "1.2.0",
          "model_name": "LayoutModel",
          "state": {
            "_model_module": "@jupyter-widgets/base",
            "_model_module_version": "1.2.0",
            "_model_name": "LayoutModel",
            "_view_count": null,
            "_view_module": "@jupyter-widgets/base",
            "_view_module_version": "1.2.0",
            "_view_name": "LayoutView",
            "align_content": null,
            "align_items": null,
            "align_self": null,
            "border": null,
            "bottom": null,
            "display": null,
            "flex": null,
            "flex_flow": null,
            "grid_area": null,
            "grid_auto_columns": null,
            "grid_auto_flow": null,
            "grid_auto_rows": null,
            "grid_column": null,
            "grid_gap": null,
            "grid_row": null,
            "grid_template_areas": null,
            "grid_template_columns": null,
            "grid_template_rows": null,
            "height": null,
            "justify_content": null,
            "justify_items": null,
            "left": null,
            "margin": null,
            "max_height": null,
            "max_width": null,
            "min_height": null,
            "min_width": null,
            "object_fit": null,
            "object_position": null,
            "order": null,
            "overflow": null,
            "overflow_x": null,
            "overflow_y": null,
            "padding": null,
            "right": null,
            "top": null,
            "visibility": null,
            "width": null
          }
        },
        "e52c07421aa24cfebcf992598ade4ee4": {
          "model_module": "@jupyter-widgets/controls",
          "model_module_version": "1.5.0",
          "model_name": "DescriptionStyleModel",
          "state": {
            "_model_module": "@jupyter-widgets/controls",
            "_model_module_version": "1.5.0",
            "_model_name": "DescriptionStyleModel",
            "_view_count": null,
            "_view_module": "@jupyter-widgets/base",
            "_view_module_version": "1.2.0",
            "_view_name": "StyleView",
            "description_width": ""
          }
        },
        "e72e015b2b394fa5b326c38d67f5ab2b": {
          "model_module": "@jupyter-widgets/controls",
          "model_module_version": "1.5.0",
          "model_name": "HTMLModel",
          "state": {
            "_dom_classes": [],
            "_model_module": "@jupyter-widgets/controls",
            "_model_module_version": "1.5.0",
            "_model_name": "HTMLModel",
            "_view_count": null,
            "_view_module": "@jupyter-widgets/controls",
            "_view_module_version": "1.5.0",
            "_view_name": "HTMLView",
            "description": "",
            "description_tooltip": null,
            "layout": "IPY_MODEL_43dd7282ebc54b40ba94c56ddbeacd90",
            "placeholder": "​",
            "style": "IPY_MODEL_e52c07421aa24cfebcf992598ade4ee4",
            "value": "Downloading: 100%"
          }
        },
        "ee9b14e0808d41c6a6a1e4b3ba89b0c0": {
          "model_module": "@jupyter-widgets/controls",
          "model_module_version": "1.5.0",
          "model_name": "VBoxModel",
          "state": {
            "_dom_classes": [],
            "_model_module": "@jupyter-widgets/controls",
            "_model_module_version": "1.5.0",
            "_model_name": "VBoxModel",
            "_view_count": null,
            "_view_module": "@jupyter-widgets/controls",
            "_view_module_version": "1.5.0",
            "_view_name": "VBoxView",
            "box_style": "",
            "children": [
              "IPY_MODEL_5ccdf351a92243d09aad87925169d27e",
              "IPY_MODEL_b8ee940d771c46d2952bfbf1c8a88029",
              "IPY_MODEL_ffadee8020004fd1bd67417c13681afc",
              "IPY_MODEL_2ccf9402077a4f03abff5473cc6cd457"
            ],
            "layout": "IPY_MODEL_4327880e410e45f9af0b2c58abf8dec3"
          }
        },
        "f33ccdfab0534d99b84af5b545dc8ebc": {
          "model_module": "@jupyter-widgets/controls",
          "model_module_version": "1.5.0",
          "model_name": "DescriptionStyleModel",
          "state": {
            "_model_module": "@jupyter-widgets/controls",
            "_model_module_version": "1.5.0",
            "_model_name": "DescriptionStyleModel",
            "_view_count": null,
            "_view_module": "@jupyter-widgets/base",
            "_view_module_version": "1.2.0",
            "_view_name": "StyleView",
            "description_width": ""
          }
        },
        "f399edf02fa246c8b75ab5e683cd8ef5": {
          "model_module": "@jupyter-widgets/controls",
          "model_module_version": "1.5.0",
          "model_name": "DescriptionStyleModel",
          "state": {
            "_model_module": "@jupyter-widgets/controls",
            "_model_module_version": "1.5.0",
            "_model_name": "DescriptionStyleModel",
            "_view_count": null,
            "_view_module": "@jupyter-widgets/base",
            "_view_module_version": "1.2.0",
            "_view_name": "StyleView",
            "description_width": ""
          }
        },
        "ffadee8020004fd1bd67417c13681afc": {
          "model_module": "@jupyter-widgets/controls",
          "model_module_version": "1.5.0",
          "model_name": "LabelModel",
          "state": {
            "_dom_classes": [],
            "_model_module": "@jupyter-widgets/controls",
            "_model_module_version": "1.5.0",
            "_model_name": "LabelModel",
            "_view_count": null,
            "_view_module": "@jupyter-widgets/controls",
            "_view_module_version": "1.5.0",
            "_view_name": "LabelView",
            "description": "",
            "description_tooltip": null,
            "layout": "IPY_MODEL_500259aa1b874dc49974a91affe2b559",
            "placeholder": "​",
            "style": "IPY_MODEL_a8e776f836d04ab3b7b91a094dd98d0f",
            "value": "Your token has been saved to /root/.cache/huggingface/token"
          }
        },
        "ffed60c846344f6c9e66125f989f9ece": {
          "model_module": "@jupyter-widgets/controls",
          "model_module_version": "1.5.0",
          "model_name": "HTMLModel",
          "state": {
            "_dom_classes": [],
            "_model_module": "@jupyter-widgets/controls",
            "_model_module_version": "1.5.0",
            "_model_name": "HTMLModel",
            "_view_count": null,
            "_view_module": "@jupyter-widgets/controls",
            "_view_module_version": "1.5.0",
            "_view_name": "HTMLView",
            "description": "",
            "description_tooltip": null,
            "layout": "IPY_MODEL_b84e5cd3fa9a46498ba1cf78b668c198",
            "placeholder": "​",
            "style": "IPY_MODEL_41c8b96564c54b3d9cbad5fca2ca8bde",
            "value": "<center> <img\nsrc=https://huggingface.co/front/assets/huggingface_logo-noborder.svg\nalt='Hugging Face'> <br> Copy a token from <a\nhref=\"https://huggingface.co/settings/tokens\" target=\"_blank\">your Hugging Face\ntokens page</a> and paste it below. <br> Immediately click login after copying\nyour token or it might be stored in plain text in this notebook file. </center>"
          }
        }
      }
    }
  },
  "nbformat": 4,
  "nbformat_minor": 0
}
