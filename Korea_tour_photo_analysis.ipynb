{
  "cells": [
    {
      "cell_type": "markdown",
      "metadata": {
        "id": "N7IGFBlDUiU0"
      },
      "source": [
        "## Prequisites"
      ]
    },
    {
      "cell_type": "code",
      "execution_count": 51,
      "metadata": {
        "colab": {
          "base_uri": "https://localhost:8080/"
        },
        "id": "8zIk6PDcS3bi",
        "outputId": "88d57901-2df7-4521-c24d-0354629d17ff"
      },
      "outputs": [
        {
          "name": "stdout",
          "output_type": "stream",
          "text": [
            "Requirement already satisfied: pyspark in /usr/local/lib/python3.10/dist-packages (3.5.1)\n",
            "Requirement already satisfied: py4j in /usr/local/lib/python3.10/dist-packages (0.10.9.7)\n",
            "Requirement already satisfied: pillow in /usr/local/lib/python3.10/dist-packages (9.4.0)\n"
          ]
        }
      ],
      "source": [
        "!pip install pyspark py4j pillow"
      ]
    },
    {
      "cell_type": "markdown",
      "metadata": {
        "id": "WyutxwgtUx6-"
      },
      "source": [
        "### Extract metadata"
      ]
    },
    {
      "cell_type": "code",
      "execution_count": null,
      "metadata": {
        "id": "L73D9aEDIbA2"
      },
      "outputs": [],
      "source": [
        "import requests, json, csv\n",
        "\n",
        "key = 'TOUR_API_KEY'\n",
        "num_of_rows = '15'\n",
        "fname_metadata = 'tour_photo.csv'\n",
        "\n",
        "# Request parameters\n",
        "base_url = 'http://apis.data.go.kr/B551011/PhotoGalleryService1/galleryList1'\n",
        "params = {\n",
        "    'numOfRows': num_of_rows,\n",
        "    'pageNo': '1',\n",
        "    'MobileOS' : 'ETC',\n",
        "    'MobileApp' : 'AppTest',\n",
        "    'arrange' : 'A',\n",
        "    '_type' : 'json',\n",
        "    'serviceKey' : key}\n",
        "\n",
        "# Get request\n",
        "response= requests.get(base_url,params=params).json()['response']\n",
        "\n",
        "# Save as csv file\n",
        "with open(fname_metadata, 'w', newline='', encoding='utf-8') as file:\n",
        "    writer = csv.DictWriter(file, fieldnames=response[0].keys())\n",
        "    writer.writeheader()\n",
        "    writer.writerows(response['body']['items']['item'])\n"
      ]
    },
    {
      "cell_type": "code",
      "execution_count": null,
      "metadata": {
        "id": "KFEzCPBxncm4"
      },
      "outputs": [],
      "source": [
        "import requests\n",
        "import csv\n",
        "\n",
        "save_folder = \"tour_photos\"\n",
        "\n",
        "with open(fname_metadata, 'r', encoding='utf-8') as file:\n",
        "    csv_reader = csv.reader(file)\n",
        "    next(csv_reader)  # skip header\n",
        "\n",
        "    for row in csv_reader:\n",
        "        img_url = row['galWebImageUrl']  # Parse image url\n",
        "        img_name = img_url.split('/')[-1]  # Extract filename\n",
        "\n",
        "        try:\n",
        "            response = requests.get(img_url)\n",
        "            response.raise_for_status()\n",
        "        except requests.exceptions.RequestException as e:\n",
        "            print(f\"Error downloading image from {img_url}: {e}\")\n",
        "            continue\n",
        "\n",
        "        # Save\n",
        "        with open(f\"{save_folder}/{img_name}\", 'wb') as img_file:\n",
        "            img_file.write(response.content)\n"
      ]
    },
    {
      "cell_type": "markdown",
      "metadata": {
        "id": "WY5eYeYPTnaA"
      },
      "source": [
        "## Exploration"
      ]
    },
    {
      "cell_type": "code",
      "execution_count": null,
      "metadata": {
        "id": "9CKjdD_9SkH_"
      },
      "outputs": [],
      "source": [
        "import pandas as pd\n",
        "\n",
        "df = pd.read_csv(fname_metadata)\n",
        "df.head()"
      ]
    },
    {
      "cell_type": "code",
      "execution_count": null,
      "metadata": {
        "colab": {
          "base_uri": "https://localhost:8080/"
        },
        "id": "3XrC2yeojYiV",
        "outputId": "f84a634f-9c09-4c69-ac81-5c1d11d58267"
      },
      "outputs": [
        {
          "name": "stdout",
          "output_type": "stream",
          "text": [
            "<class 'pandas.core.frame.DataFrame'>\n",
            "RangeIndex: 5525 entries, 0 to 5524\n",
            "Data columns (total 10 columns):\n",
            " #   Column                  Non-Null Count  Dtype  \n",
            "---  ------                  --------------  -----  \n",
            " 0   galContentId            5525 non-null   int64  \n",
            " 1   galContentTypeId        5525 non-null   int64  \n",
            " 2   galTitle                5525 non-null   object \n",
            " 3   galWebImageUrl          5525 non-null   object \n",
            " 4   galCreatedtime          5525 non-null   int64  \n",
            " 5   galModifiedtime         5525 non-null   int64  \n",
            " 6   galPhotographyMonth     5524 non-null   float64\n",
            " 7   galPhotographyLocation  5510 non-null   object \n",
            " 8   galPhotographer         5524 non-null   object \n",
            " 9   galSearchKeyword        5523 non-null   object \n",
            "dtypes: float64(1), int64(4), object(5)\n",
            "memory usage: 431.8+ KB\n"
          ]
        }
      ],
      "source": [
        "df.info()"
      ]
    },
    {
      "cell_type": "markdown",
      "metadata": {
        "id": "RbuEX5z9T7MZ"
      },
      "source": [
        "## Preprocessing"
      ]
    },
    {
      "cell_type": "markdown",
      "metadata": {
        "id": "stIaAtSG_nU6"
      },
      "source": [
        "### Imports"
      ]
    },
    {
      "cell_type": "code",
      "execution_count": 93,
      "metadata": {
        "id": "idd36Bza_nnD"
      },
      "outputs": [],
      "source": [
        "from pyspark.sql import SparkSession, Row\n",
        "from pyspark.sql.types import BinaryType, IntegerType, StringType, BooleanType\n",
        "from pyspark.sql.functions import udf, col, lit\n",
        "from pyspark.sql.functions import min as sql_min\n",
        "from PIL import Image\n",
        "import numpy as np\n",
        "import io"
      ]
    },
    {
      "cell_type": "markdown",
      "metadata": {
        "id": "kBcafgJ700ee"
      },
      "source": [
        "### Create Spark Session"
      ]
    },
    {
      "cell_type": "code",
      "execution_count": 4,
      "metadata": {
        "id": "hJS-slZB063U"
      },
      "outputs": [],
      "source": [
        "# SparkSession\n",
        "spark = (\n",
        "    SparkSession.builder\n",
        "        .master('local[*]')\n",
        "        .appName('PhotoAnalyzer')\n",
        "        .getOrCreate()\n",
        "    )"
      ]
    },
    {
      "cell_type": "markdown",
      "metadata": {
        "id": "US1C84-92r3c"
      },
      "source": [
        "### Load images"
      ]
    },
    {
      "cell_type": "code",
      "execution_count": 6,
      "metadata": {
        "id": "vOqEee8V2byR"
      },
      "outputs": [],
      "source": [
        "# Load images to spark dataframe\n",
        "df_img = spark.read.format('image').load(save_folder)"
      ]
    },
    {
      "cell_type": "code",
      "execution_count": null,
      "metadata": {
        "colab": {
          "base_uri": "https://localhost:8080/"
        },
        "id": "nK2CFcczRcml",
        "outputId": "7fd73dcb-fd71-4229-8c26-2df4be0deef1"
      },
      "outputs": [
        {
          "name": "stdout",
          "output_type": "stream",
          "text": [
            "root\n",
            " |-- image: struct (nullable = true)\n",
            " |    |-- origin: string (nullable = true)\n",
            " |    |-- height: integer (nullable = true)\n",
            " |    |-- width: integer (nullable = true)\n",
            " |    |-- nChannels: integer (nullable = true)\n",
            " |    |-- mode: integer (nullable = true)\n",
            " |    |-- data: binary (nullable = true)\n",
            "\n"
          ]
        }
      ],
      "source": [
        "df_img.printSchema()"
      ]
    },
    {
      "cell_type": "markdown",
      "metadata": {
        "id": "U0ZkNbILT-Uv"
      },
      "source": [
        "### Validate images"
      ]
    },
    {
      "cell_type": "code",
      "execution_count": 91,
      "metadata": {
        "colab": {
          "base_uri": "https://localhost:8080/"
        },
        "id": "mYYD5ZQqUgAB",
        "outputId": "c5f02622-f354-4071-ffa6-1a537b4765e6"
      },
      "outputs": [
        {
          "name": "stdout",
          "output_type": "stream",
          "text": [
            "Previous dataframe's size : 15\n",
            "Filtered dataframe's size : 8\n"
          ]
        }
      ],
      "source": [
        "# Image verifying UDF using PIL.Image\n",
        "@udf(returnType=BooleanType())\n",
        "def validate_image(image_path):\n",
        "    try:\n",
        "        # Trim first 7 chars \"file://\" and load.\n",
        "        img = Image.open(image_path[7:])\n",
        "        # An error will occur if it's broken.\n",
        "        img.verify()\n",
        "        return True\n",
        "    except :\n",
        "        # if return is False, it will be dropped.\n",
        "        return False\n",
        "\n",
        "previous_size = df_img.count()\n",
        "\n",
        "# Drop broken images\n",
        "df_img = df_img.filter(validate_image(col('image.origin')))\n",
        "print(f'Previous dataframe\\'s size : {previous_size}')\n",
        "print(f'Filtered dataframe\\'s size : {df_img.count()}')"
      ]
    },
    {
      "cell_type": "markdown",
      "metadata": {
        "id": "U8JGeKciUCTd"
      },
      "source": [
        "### Resize"
      ]
    },
    {
      "cell_type": "code",
      "execution_count": 92,
      "metadata": {
        "colab": {
          "base_uri": "https://localhost:8080/"
        },
        "id": "pMnBnbGYmHIk",
        "outputId": "5bbb3655-ff24-4905-9697-f331b2e23440"
      },
      "outputs": [
        {
          "name": "stdout",
          "output_type": "stream",
          "text": [
            "532\n"
          ]
        }
      ],
      "source": [
        "@udf(returnType=IntegerType())\n",
        "def get_min(image : Row):\n",
        "    return min(image['width'], image['height'])\n",
        "\n",
        "minimum_length = (\n",
        "    df_img\n",
        "        .select(get_min(\"image\").alias(\"_\"))\n",
        "        .select(sql_min('_'))\n",
        "        .first()[0]\n",
        "    )\n",
        "\n",
        "print(minimum_length)"
      ]
    },
    {
      "cell_type": "code",
      "execution_count": 94,
      "metadata": {
        "colab": {
          "base_uri": "https://localhost:8080/"
        },
        "id": "-JaLo1m0f5PF",
        "outputId": "b4a35bae-8e3d-44b2-e84f-a324af11ed2f"
      },
      "outputs": [
        {
          "name": "stdout",
          "output_type": "stream",
          "text": [
            "+-------+--------------------+----+----+\n",
            "|     id|                data|size|mode|\n",
            "+-------+--------------------+----+----+\n",
            "|3106626|[CE CC 8B BF BD 7...| 532| BGR|\n",
            "|3108458|[ED E5 DE EE E6 D...| 532| BGR|\n",
            "|3107008|[68 51 CB 8E 77 E...| 532| BGR|\n",
            "|3106911|[02 3D 7B 01 3E 7...| 532| BGR|\n",
            "|3106847|[5B 2F 00 5D 31 0...| 532| BGR|\n",
            "|3106888|[02 05 49 02 05 4...| 532| BGR|\n",
            "|3108341|[E7 E4 DC E7 E4 D...| 532| BGR|\n",
            "|3106632|[4F 01 E8 50 01 E...| 532| BGR|\n",
            "+-------+--------------------+----+----+\n",
            "\n"
          ]
        }
      ],
      "source": [
        "def bgr2rgb(img_array : np.ndarray) -> np.ndarray:\n",
        "    # Reverse the order of elements\n",
        "    return img_array[..., ::-1]\n",
        "\n",
        "def rgb2bgr(img_array: np.ndarray) -> np.ndarray:\n",
        "    # Reverse the order of elements\n",
        "    return img_array[..., ::-1]\n",
        "\n",
        "def data2arr(data : bytearray, width : int, height : int) -> np.ndarray:\n",
        "    return (\n",
        "        np\n",
        "            .frombuffer(bytes(data), np.uint8)\n",
        "            .reshape((height,width,3))\n",
        "    )\n",
        "    return nparr\n",
        "\n",
        "def arr2data(nparr: np.ndarray) -> bytearray:\n",
        "    return bytearray(nparr.flatten())\n",
        "\n",
        "@udf(returnType=StringType())\n",
        "def parse_filename(image : Row):\n",
        "    # Trim out the path and ext.\n",
        "    return image['origin'].split('/')[-1][:-4]\n",
        "\n",
        "@udf(returnType=BinaryType())\n",
        "def crop(row : Row, x : int = minimum_length) -> BinaryType():\n",
        "    w,h = row['width'],row['height']\n",
        "    # Calculate the cordinates to trim\n",
        "    l,t,r,b = (w - x) / 2, (h - x) / 2, (w + x) / 2, (h + x) / 2\n",
        "    # Read bytearray as numpy array\n",
        "    nparr = data2arr(row['data'],w,h)\n",
        "    # Change the order of the color channels for PIL\n",
        "    nparr = bgr2rgb(nparr)\n",
        "    # Load image\n",
        "    image = Image.fromarray(nparr, mode='RGB')\n",
        "    # Crop\n",
        "    image_cropped = image.crop((l,t,r,b))\n",
        "    # Encode the image as bytearray again\n",
        "    nparr_c = np.array(image_cropped)\n",
        "    nparr_c = rgb2bgr(nparr_c)\n",
        "    result = arr2data(nparr_c)\n",
        "    return result\n",
        "df_resized = (\n",
        "    df_img\n",
        "        .select(\n",
        "            parse_filename('image').alias('id'),\n",
        "            crop('image').alias('data'),\n",
        "            lit(minimum_length).alias('size'),\n",
        "            lit('BGR').alias('mode')\n",
        "            )\n",
        ")\n",
        "df_resized.show()\n",
        "\n"
      ]
    },
    {
      "cell_type": "markdown",
      "metadata": {
        "id": "kVv6eR_UUKJQ"
      },
      "source": [
        "### Conversion into gray scale"
      ]
    }
  ],
  "metadata": {
    "colab": {
      "collapsed_sections": [
        "WyutxwgtUx6-",
        "WY5eYeYPTnaA"
      ],
      "provenance": []
    },
    "kernelspec": {
      "display_name": "Python 3",
      "name": "python3"
    },
    "language_info": {
      "name": "python"
    }
  },
  "nbformat": 4,
  "nbformat_minor": 0
}
